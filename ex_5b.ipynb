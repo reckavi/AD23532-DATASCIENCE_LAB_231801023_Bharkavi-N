{
  "nbformat": 4,
  "nbformat_minor": 0,
  "metadata": {
    "colab": {
      "provenance": []
    },
    "kernelspec": {
      "name": "python3",
      "display_name": "Python 3"
    },
    "language_info": {
      "name": "python"
    }
  },
  "cells": [
    {
      "cell_type": "code",
      "execution_count": 2,
      "metadata": {
        "colab": {
          "base_uri": "https://localhost:8080/"
        },
        "id": "dErvAGb5EGNq",
        "outputId": "fa27b2f0-9450-465c-9847-1cf5b71fdc05"
      },
      "outputs": [
        {
          "output_type": "stream",
          "name": "stdout",
          "text": [
            "\n",
            "Review 1:\n",
            "Tokens (cleaned): ['bought', 'vitality', 'canned', 'dog', 'food', 'products', 'found', 'good', 'quality', 'product', 'looks', 'like', 'stew', 'processed', 'meat', 'smells', 'better', 'labrador', 'finicky', 'appreciates', 'product', 'better']\n",
            "POS tags: [('bought', 'VERB'), ('vitality', 'NOUN'), ('canned', 'VERB'), ('dog', 'NOUN'), ('food', 'NOUN'), ('products', 'NOUN'), ('found', 'VERB'), ('good', 'ADJ'), ('quality', 'NOUN'), ('product', 'NOUN'), ('looks', 'VERB'), ('like', 'ADP'), ('stew', 'NOUN'), ('processed', 'VERB'), ('meat', 'NOUN'), ('smells', 'VERB'), ('better', 'ADV'), ('labrador', 'NOUN'), ('finicky', 'ADJ'), ('appreciates', 'VERB'), ('product', 'NOUN'), ('better', 'ADV')]\n",
            "Named Entities:\n",
            "\n",
            "Review 2:\n",
            "Tokens (cleaned): ['product', 'arrived', 'labeled', 'jumbo', 'salted', 'peanuts', 'peanuts', 'actually', 'small', 'sized', 'unsalted', 'sure', 'error', 'vendor', 'intended', 'represent', 'product', 'jumbo']\n",
            "POS tags: [('product', 'NOUN'), ('arrived', 'AUX'), ('labeled', 'VERB'), ('jumbo', 'PROPN'), ('salted', 'VERB'), ('peanuts', 'NOUN'), ('peanuts', 'NOUN'), ('actually', 'ADV'), ('small', 'ADJ'), ('sized', 'ADJ'), ('unsalted', 'ADJ'), ('sure', 'ADJ'), ('error', 'NOUN'), ('vendor', 'NOUN'), ('intended', 'VERB'), ('represent', 'VERB'), ('product', 'NOUN'), ('jumbo', 'ADJ')]\n",
            "Named Entities:\n",
            "\n",
            "Review 3:\n",
            "Tokens (cleaned): ['confection', 'centuries', 'light', 'pillowy', 'citrus', 'gelatin', 'nuts', 'case', 'filberts', 'cut', 'tiny', 'squares', 'liberally', 'coated', 'powdered', 'sugar', 'tiny', 'mouthful', 'heaven', 'chewy', 'flavorful', 'highly', 'recommend', 'yummy', 'treat', 'familiar', 'story', 'lewis', 'lion', 'witch', 'wardrobe', 'treat', 'seduces', 'edmund', 'selling', 'brother', 'sisters', 'witch']\n",
            "POS tags: [('confection', 'NOUN'), ('centuries', 'NOUN'), ('light', 'ADJ'), ('pillowy', 'ADJ'), ('citrus', 'NOUN'), ('gelatin', 'VERB'), ('nuts', 'NOUN'), ('case', 'NOUN'), ('filberts', 'NOUN'), ('cut', 'VERB'), ('tiny', 'ADJ'), ('squares', 'NOUN'), ('liberally', 'ADV'), ('coated', 'VERB'), ('powdered', 'ADJ'), ('sugar', 'NOUN'), ('tiny', 'ADJ'), ('mouthful', 'ADJ'), ('heaven', 'PROPN'), ('chewy', 'NOUN'), ('flavorful', 'ADJ'), ('highly', 'ADV'), ('recommend', 'VERB'), ('yummy', 'ADJ'), ('treat', 'NOUN'), ('familiar', 'ADJ'), ('story', 'NOUN'), ('lewis', 'PROPN'), ('lion', 'NOUN'), ('witch', 'NOUN'), ('wardrobe', 'NOUN'), ('treat', 'NOUN'), ('seduces', 'VERB'), ('edmund', 'ADJ'), ('selling', 'VERB'), ('brother', 'NOUN'), ('sisters', 'NOUN'), ('witch', 'NOUN')]\n",
            "Named Entities:\n",
            "  around a few centuries: DATE\n",
            "  pillowy citrus gelatin: ORG\n",
            "  c.s.: GPE\n",
            "\n",
            "Review 4:\n",
            "Tokens (cleaned): ['looking', 'secret', 'ingredient', 'robitussin', 'believe', 'found', 'got', 'addition', 'root', 'beer', 'extract', 'ordered', 'good', 'cherry', 'soda', 'flavor', 'medicinal']\n",
            "POS tags: [('looking', 'VERB'), ('secret', 'ADJ'), ('ingredient', 'NOUN'), ('robitussin', 'NOUN'), ('believe', 'VERB'), ('found', 'VERB'), ('got', 'VERB'), ('addition', 'NOUN'), ('root', 'NOUN'), ('beer', 'NOUN'), ('extract', 'NOUN'), ('ordered', 'VERB'), ('good', 'ADJ'), ('cherry', 'NOUN'), ('soda', 'NOUN'), ('flavor', 'NOUN'), ('medicinal', 'ADJ')]\n",
            "Named Entities:\n",
            "\n",
            "Review 5:\n",
            "Tokens (cleaned): ['great', 'taffy', 'great', 'price', 'wide', 'assortment', 'yummy', 'taffy', 'delivery', 'quick', 'taffy', 'lover', 'deal']\n",
            "POS tags: [('great', 'ADJ'), ('taffy', 'NOUN'), ('great', 'ADJ'), ('price', 'NOUN'), ('wide', 'ADJ'), ('assortment', 'NOUN'), ('yummy', 'ADJ'), ('taffy', 'PROPN'), ('delivery', 'NOUN'), ('quick', 'ADJ'), ('taffy', 'PROPN'), ('lover', 'NOUN'), ('deal', 'NOUN')]\n",
            "Named Entities:\n"
          ]
        }
      ],
      "source": [
        "import pandas as pd\n",
        "import spacy\n",
        "\n",
        "# Install spaCy model if not installed\n",
        "# !python -m spacy download en_core_web_sm\n",
        "\n",
        "# Load spaCy English model\n",
        "nlp = spacy.load(\"en_core_web_sm\")\n",
        "\n",
        "# 1 & 4: Load dataset (assuming CSV is downloaded and accessible)\n",
        "def load_data(filepath, n=10000):\n",
        "    df = pd.read_csv(filepath, engine='python', on_bad_lines='skip')\n",
        "    reviews = df['Text'].dropna().head(n)\n",
        "    return reviews\n",
        "\n",
        "# 5: Preprocess text - lowercase and remove punctuation (optional because spaCy can handle it)\n",
        "def preprocess_text(text):\n",
        "    return text.lower()\n",
        "\n",
        "# 6-8: Process text with spaCy for tokenization, stopword removal, POS tagging, NER\n",
        "def process_review(text):\n",
        "    doc = nlp(text)\n",
        "    # Tokenization and cleaning: alphabetic tokens and remove stopwords\n",
        "    tokens = [token.text for token in doc if token.is_alpha and not token.is_stop]\n",
        "    # POS tagging: list of (token, pos)\n",
        "    pos_tags = [(token.text, token.pos_) for token in doc if token.text in tokens]\n",
        "    # NER: list of (entity_text, entity_label)\n",
        "    entities = [(ent.text, ent.label_) for ent in doc.ents]\n",
        "    return tokens, pos_tags, entities\n",
        "\n",
        "if __name__ == \"__main__\":\n",
        "    filepath = \"/content/Reviews.csv\"  # Update your path here/content/Reviews.csv\n",
        "    reviews = load_data(filepath)\n",
        "\n",
        "    # Preprocess reviews\n",
        "    reviews_clean = reviews.apply(preprocess_text)\n",
        "\n",
        "    # Process only first 5 for demo\n",
        "    for i, review in enumerate(reviews_clean.head(5), 1):\n",
        "        tokens, pos_tags, entities = process_review(review)\n",
        "        print(f\"\\nReview {i}:\")\n",
        "        print(f\"Tokens (cleaned): {tokens}\")\n",
        "        print(f\"POS tags: {pos_tags}\")\n",
        "        print(f\"Named Entities:\")\n",
        "        for ent_text, ent_label in entities:\n",
        "            print(f\"  {ent_text}: {ent_label}\")"
      ]
    },
    {
      "cell_type": "code",
      "source": [],
      "metadata": {
        "id": "ZABbzusYEHmZ"
      },
      "execution_count": null,
      "outputs": []
    }
  ]
}