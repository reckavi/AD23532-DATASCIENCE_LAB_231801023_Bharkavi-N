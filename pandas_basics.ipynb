{
 "cells": [
  {
   "cell_type": "code",
   "execution_count": 3,
   "id": "16df3102-78f5-4d92-b27a-90eeb1eb9154",
   "metadata": {},
   "outputs": [],
   "source": [
    "import pandas as pd\n"
   ]
  },
  {
   "cell_type": "raw",
   "id": "60969a28-4d95-40ef-8d80-c3e155ce9e7c",
   "metadata": {},
   "source": [
    "PANDAS SERIES\n",
    "\n",
    "HOW TO CREATE"
   ]
  },
  {
   "cell_type": "code",
   "execution_count": 7,
   "id": "e02526c2-3dd2-4746-858e-c99e13f22ea8",
   "metadata": {},
   "outputs": [],
   "source": [
    "veges=['beetroot','carrot','tomato','kovakkai','coconut'] "
   ]
  },
  {
   "cell_type": "code",
   "execution_count": 19,
   "id": "031c734f-2a7c-47fd-ad8a-4f76f673c9e9",
   "metadata": {},
   "outputs": [],
   "source": [
    "veges_series=pd.Series(veges)"
   ]
  },
  {
   "cell_type": "markdown",
   "id": "f9a3c1a3-9a49-499d-b771-f8598eb0ed51",
   "metadata": {},
   "source": [
    "How to create with labels"
   ]
  },
  {
   "cell_type": "code",
   "execution_count": 22,
   "id": "cdfcc3f0-86b2-4050-9279-94b6367bcbb5",
   "metadata": {},
   "outputs": [],
   "source": [
    "veges_series1=pd.Series(veges,index=['purple','orange','red','green','white'])"
   ]
  },
  {
   "cell_type": "code",
   "execution_count": 24,
   "id": "fb28a6c4-0c3e-47e2-9db6-d46fd6dc1234",
   "metadata": {},
   "outputs": [
    {
     "data": {
      "text/plain": [
       "purple    beetroot\n",
       "orange      carrot\n",
       "red         tomato\n",
       "green     kovakkai\n",
       "white      coconut\n",
       "dtype: object"
      ]
     },
     "execution_count": 24,
     "metadata": {},
     "output_type": "execute_result"
    }
   ],
   "source": [
    "veges_series1"
   ]
  },
  {
   "cell_type": "code",
   "execution_count": 26,
   "id": "ba5d6032-5f50-4f8f-a220-9384449db003",
   "metadata": {},
   "outputs": [],
   "source": [
    "vege_dict={'red':'tomato','green':'kovakkai'}"
   ]
  },
  {
   "cell_type": "code",
   "execution_count": 28,
   "id": "7d56bb29-51e4-4b0d-83d1-1d6ec503f620",
   "metadata": {},
   "outputs": [],
   "source": [
    "vege_dict_series= pd.Series(vege_dict)"
   ]
  },
  {
   "cell_type": "code",
   "execution_count": 30,
   "id": "43c54950-9424-4ac0-abaf-8dff978b0a81",
   "metadata": {},
   "outputs": [
    {
     "data": {
      "text/plain": [
       "red        tomato\n",
       "green    kovakkai\n",
       "dtype: object"
      ]
     },
     "execution_count": 30,
     "metadata": {},
     "output_type": "execute_result"
    }
   ],
   "source": [
    "vege_dict_series"
   ]
  },
  {
   "cell_type": "code",
   "execution_count": 9,
   "id": "fa9e90c6-1b6e-4f84-b827-18dc719ac220",
   "metadata": {},
   "outputs": [],
   "source": [
    "vege_dict_serie=pd.Series(veges)"
   ]
  },
  {
   "cell_type": "code",
   "execution_count": 11,
   "id": "b47d2784-a030-46dd-adcf-5d143f5a8005",
   "metadata": {},
   "outputs": [
    {
     "data": {
      "text/plain": [
       "'beetroot'"
      ]
     },
     "execution_count": 11,
     "metadata": {},
     "output_type": "execute_result"
    }
   ],
   "source": [
    "vege_dict_serie[0]"
   ]
  },
  {
   "cell_type": "markdown",
   "id": "8042258f-0dac-484b-b4f9-e7553f82ab82",
   "metadata": {},
   "source": [
    "How to access"
   ]
  },
  {
   "cell_type": "code",
   "execution_count": 33,
   "id": "843da844-5002-44b4-aafb-0cb3ca5c6262",
   "metadata": {},
   "outputs": [
    {
     "data": {
      "text/plain": [
       "'coconut'"
      ]
     },
     "execution_count": 33,
     "metadata": {},
     "output_type": "execute_result"
    }
   ],
   "source": [
    "veges_series1['white']"
   ]
  },
  {
   "cell_type": "markdown",
   "id": "e61c51ae-bad6-4cdc-8978-3935b786667e",
   "metadata": {},
   "source": [
    "HOW to add"
   ]
  },
  {
   "cell_type": "code",
   "execution_count": 36,
   "id": "db8efab3-6cea-4f33-a83d-bcb9bb0b677b",
   "metadata": {},
   "outputs": [],
   "source": [
    "vege_dict_series['orange']='carrot'"
   ]
  },
  {
   "cell_type": "code",
   "execution_count": 38,
   "id": "1e0a2f95-d2cd-4510-8cb7-d99b5cb4be2e",
   "metadata": {},
   "outputs": [
    {
     "data": {
      "text/plain": [
       "red         tomato\n",
       "green     kovakkai\n",
       "orange      carrot\n",
       "dtype: object"
      ]
     },
     "execution_count": 38,
     "metadata": {},
     "output_type": "execute_result"
    }
   ],
   "source": [
    "vege_dict_series"
   ]
  },
  {
   "cell_type": "markdown",
   "id": "9e904d36-29a0-4d42-b915-d08b6a2d08c3",
   "metadata": {},
   "source": [
    "How to drop a element(delete)"
   ]
  },
  {
   "cell_type": "code",
   "execution_count": 49,
   "id": "b4fe9421-7747-482b-954e-9a459ee1e63c",
   "metadata": {},
   "outputs": [
    {
     "name": "stdout",
     "output_type": "stream",
     "text": [
      "Index(['red', 'green'], dtype='object')\n"
     ]
    }
   ],
   "source": [
    "print(vege_dict_series.index)\n"
   ]
  },
  {
   "cell_type": "code",
   "execution_count": 51,
   "id": "07ae2fe1-b3cb-4752-94ab-5ed0445bd485",
   "metadata": {},
   "outputs": [],
   "source": [
    "vege_dict_series['orange'] = 'carrot'\n"
   ]
  },
  {
   "cell_type": "code",
   "execution_count": 57,
   "id": "cbfeb5ad-8c4f-4648-b195-e093b028af66",
   "metadata": {},
   "outputs": [
    {
     "name": "stdout",
     "output_type": "stream",
     "text": [
      "Index(['red', 'green', 'orange'], dtype='object')\n"
     ]
    }
   ],
   "source": [
    "print(vege_dict_series.index)"
   ]
  },
  {
   "cell_type": "code",
   "execution_count": 55,
   "id": "34ca653e-efdc-44b8-b3a6-e1a32253b136",
   "metadata": {},
   "outputs": [
    {
     "data": {
      "text/plain": [
       "red        tomato\n",
       "green    kovakkai\n",
       "dtype: object"
      ]
     },
     "execution_count": 55,
     "metadata": {},
     "output_type": "execute_result"
    }
   ],
   "source": [
    "vege_dict_series.drop(['orange'])"
   ]
  },
  {
   "cell_type": "markdown",
   "id": "97ccdeae-2684-4da5-af01-16f397b1ef09",
   "metadata": {},
   "source": [
    "Above remove only here not in the actual element"
   ]
  },
  {
   "cell_type": "code",
   "execution_count": 59,
   "id": "3733a295-ea1e-4c9b-be10-162fb0ef0761",
   "metadata": {},
   "outputs": [
    {
     "name": "stdout",
     "output_type": "stream",
     "text": [
      "Index(['red', 'green', 'orange'], dtype='object')\n"
     ]
    }
   ],
   "source": [
    "print(vege_dict_series.index)"
   ]
  },
  {
   "cell_type": "code",
   "execution_count": 61,
   "id": "6d77c9d0-e037-433a-be10-1815ed880650",
   "metadata": {},
   "outputs": [],
   "source": [
    "vege_dict_series.drop(['orange'],inplace=True)"
   ]
  },
  {
   "cell_type": "code",
   "execution_count": 63,
   "id": "f06d2ed1-f067-428a-b566-0f7d26fbca37",
   "metadata": {},
   "outputs": [
    {
     "name": "stdout",
     "output_type": "stream",
     "text": [
      "Index(['red', 'green'], dtype='object')\n"
     ]
    }
   ],
   "source": [
    "print(vege_dict_series.index)\n"
   ]
  },
  {
   "cell_type": "markdown",
   "id": "bfa5df97-0386-4b9d-8c2b-2947f263365b",
   "metadata": {},
   "source": [
    "But inplace remove also in the actul element"
   ]
  },
  {
   "cell_type": "markdown",
   "id": "cc28af35-00bf-4604-b803-ec6fa7937b3b",
   "metadata": {},
   "source": [
    "Now we go to Series elements cant be heterogeneous and nested to"
   ]
  },
  {
   "cell_type": "code",
   "execution_count": 68,
   "id": "bfadbb03-b230-4509-a5f8-e80a6e620585",
   "metadata": {},
   "outputs": [],
   "source": [
    "veges1dict={'red':['tomato','redchilli'],'green':'kovakkai'}"
   ]
  },
  {
   "cell_type": "code",
   "execution_count": 70,
   "id": "096709f4-8e9c-4007-9693-2212af3e6215",
   "metadata": {},
   "outputs": [],
   "source": [
    "new_veges_series=pd.Series(veges1dict)"
   ]
  },
  {
   "cell_type": "code",
   "execution_count": 72,
   "id": "4f8fb0c0-78ae-4bb0-abc7-a408bd69d4b6",
   "metadata": {},
   "outputs": [
    {
     "name": "stderr",
     "output_type": "stream",
     "text": [
      "C:\\Users\\bhark\\AppData\\Local\\Temp\\ipykernel_2504\\2527856577.py:1: FutureWarning: Series.__getitem__ treating keys as positions is deprecated. In a future version, integer keys will always be treated as labels (consistent with DataFrame behavior). To access a value by position, use `ser.iloc[pos]`\n",
      "  new_veges_series[0]\n"
     ]
    },
    {
     "data": {
      "text/plain": [
       "['tomato', 'redchilli']"
      ]
     },
     "execution_count": 72,
     "metadata": {},
     "output_type": "execute_result"
    }
   ],
   "source": [
    "new_veges_series[0]"
   ]
  },
  {
   "cell_type": "code",
   "execution_count": 74,
   "id": "740c3338-c755-4797-bbc9-2688503a73ee",
   "metadata": {},
   "outputs": [
    {
     "name": "stderr",
     "output_type": "stream",
     "text": [
      "C:\\Users\\bhark\\AppData\\Local\\Temp\\ipykernel_2504\\3366139601.py:1: FutureWarning: Series.__getitem__ treating keys as positions is deprecated. In a future version, integer keys will always be treated as labels (consistent with DataFrame behavior). To access a value by position, use `ser.iloc[pos]`\n",
      "  type(new_veges_series[0])\n"
     ]
    },
    {
     "data": {
      "text/plain": [
       "list"
      ]
     },
     "execution_count": 74,
     "metadata": {},
     "output_type": "execute_result"
    }
   ],
   "source": [
    "type(new_veges_series[0])"
   ]
  },
  {
   "cell_type": "code",
   "execution_count": 76,
   "id": "fb835cec-3992-4782-ad00-23a57066c74c",
   "metadata": {},
   "outputs": [
    {
     "name": "stderr",
     "output_type": "stream",
     "text": [
      "C:\\Users\\bhark\\AppData\\Local\\Temp\\ipykernel_2504\\189875207.py:1: FutureWarning: Series.__getitem__ treating keys as positions is deprecated. In a future version, integer keys will always be treated as labels (consistent with DataFrame behavior). To access a value by position, use `ser.iloc[pos]`\n",
      "  type(new_veges_series[1])\n"
     ]
    },
    {
     "data": {
      "text/plain": [
       "str"
      ]
     },
     "execution_count": 76,
     "metadata": {},
     "output_type": "execute_result"
    }
   ],
   "source": [
    "type(new_veges_series[1])"
   ]
  },
  {
   "cell_type": "markdown",
   "id": "610018e4-3e2d-42c7-a23a-d024a90e555a",
   "metadata": {},
   "source": [
    "2. PANDAS DATAFRAME"
   ]
  },
  {
   "cell_type": "code",
   "execution_count": 81,
   "id": "79d1a9dc-9eef-4414-a9ce-ff228ca77b43",
   "metadata": {},
   "outputs": [],
   "source": [
    "data= {'vegetables':['beetroot','carrot','tomato','kovakkai','coconut'],\n",
    "       'color':['purple','orange','red','green','white'],\n",
    "       'unit':['1kg','1kg','1kg','1kg','1piece'],\n",
    "       'min':[15,25,53,30,'seventeen'],\n",
    "       'max':[40,45,90,45,38],\n",
    "      }\n",
    "    \n"
   ]
  },
  {
   "cell_type": "code",
   "execution_count": 83,
   "id": "207bd905-40c0-48e1-9f0e-28aa691fd75a",
   "metadata": {},
   "outputs": [],
   "source": [
    "koyambedu_market= pd.DataFrame(data)"
   ]
  },
  {
   "cell_type": "code",
   "execution_count": 85,
   "id": "07f89e03-8a47-4f09-9c2b-e246dd2cb724",
   "metadata": {},
   "outputs": [
    {
     "data": {
      "text/html": [
       "<div>\n",
       "<style scoped>\n",
       "    .dataframe tbody tr th:only-of-type {\n",
       "        vertical-align: middle;\n",
       "    }\n",
       "\n",
       "    .dataframe tbody tr th {\n",
       "        vertical-align: top;\n",
       "    }\n",
       "\n",
       "    .dataframe thead th {\n",
       "        text-align: right;\n",
       "    }\n",
       "</style>\n",
       "<table border=\"1\" class=\"dataframe\">\n",
       "  <thead>\n",
       "    <tr style=\"text-align: right;\">\n",
       "      <th></th>\n",
       "      <th>vegetables</th>\n",
       "      <th>color</th>\n",
       "      <th>unit</th>\n",
       "      <th>min</th>\n",
       "      <th>max</th>\n",
       "    </tr>\n",
       "  </thead>\n",
       "  <tbody>\n",
       "    <tr>\n",
       "      <th>0</th>\n",
       "      <td>beetroot</td>\n",
       "      <td>purple</td>\n",
       "      <td>1kg</td>\n",
       "      <td>15</td>\n",
       "      <td>40</td>\n",
       "    </tr>\n",
       "    <tr>\n",
       "      <th>1</th>\n",
       "      <td>carrot</td>\n",
       "      <td>orange</td>\n",
       "      <td>1kg</td>\n",
       "      <td>25</td>\n",
       "      <td>45</td>\n",
       "    </tr>\n",
       "    <tr>\n",
       "      <th>2</th>\n",
       "      <td>tomato</td>\n",
       "      <td>red</td>\n",
       "      <td>1kg</td>\n",
       "      <td>53</td>\n",
       "      <td>90</td>\n",
       "    </tr>\n",
       "    <tr>\n",
       "      <th>3</th>\n",
       "      <td>kovakkai</td>\n",
       "      <td>green</td>\n",
       "      <td>1kg</td>\n",
       "      <td>30</td>\n",
       "      <td>45</td>\n",
       "    </tr>\n",
       "    <tr>\n",
       "      <th>4</th>\n",
       "      <td>coconut</td>\n",
       "      <td>white</td>\n",
       "      <td>1piece</td>\n",
       "      <td>seventeen</td>\n",
       "      <td>38</td>\n",
       "    </tr>\n",
       "  </tbody>\n",
       "</table>\n",
       "</div>"
      ],
      "text/plain": [
       "  vegetables   color    unit        min  max\n",
       "0   beetroot  purple     1kg         15   40\n",
       "1     carrot  orange     1kg         25   45\n",
       "2     tomato     red     1kg         53   90\n",
       "3   kovakkai   green     1kg         30   45\n",
       "4    coconut   white  1piece  seventeen   38"
      ]
     },
     "execution_count": 85,
     "metadata": {},
     "output_type": "execute_result"
    }
   ],
   "source": [
    "koyambedu_market"
   ]
  },
  {
   "cell_type": "code",
   "execution_count": 87,
   "id": "25c32c8d-7781-4850-a77f-d4079cdfd6a5",
   "metadata": {},
   "outputs": [
    {
     "data": {
      "text/plain": [
       "Index(['vegetables', 'color', 'unit', 'min', 'max'], dtype='object')"
      ]
     },
     "execution_count": 87,
     "metadata": {},
     "output_type": "execute_result"
    }
   ],
   "source": [
    "koyambedu_market.columns"
   ]
  },
  {
   "cell_type": "code",
   "execution_count": 89,
   "id": "fd9d92db-283a-4593-ba1a-262f2141f668",
   "metadata": {},
   "outputs": [
    {
     "data": {
      "text/plain": [
       "RangeIndex(start=0, stop=5, step=1)"
      ]
     },
     "execution_count": 89,
     "metadata": {},
     "output_type": "execute_result"
    }
   ],
   "source": [
    "koyambedu_market.index"
   ]
  },
  {
   "cell_type": "markdown",
   "id": "e4871924-cfed-431b-8e68-186cc1bb5e3a",
   "metadata": {},
   "source": [
    "i want to change the index"
   ]
  },
  {
   "cell_type": "code",
   "execution_count": 92,
   "id": "c3823e53-f010-4d70-91ea-e8264bbc4370",
   "metadata": {},
   "outputs": [],
   "source": [
    "koyambedu_market1= pd.DataFrame(data, index=['a','b','c','d','e'])"
   ]
  },
  {
   "cell_type": "code",
   "execution_count": 94,
   "id": "9d312365-f461-4468-b742-d88cc9bd7e8b",
   "metadata": {},
   "outputs": [
    {
     "data": {
      "text/plain": [
       "Index(['a', 'b', 'c', 'd', 'e'], dtype='object')"
      ]
     },
     "execution_count": 94,
     "metadata": {},
     "output_type": "execute_result"
    }
   ],
   "source": [
    "koyambedu_market1.index\n"
   ]
  },
  {
   "cell_type": "markdown",
   "id": "faef7e9e-52f8-4a87-818f-7a28159610a7",
   "metadata": {},
   "source": [
    "How to Access"
   ]
  },
  {
   "cell_type": "code",
   "execution_count": 97,
   "id": "03507951-c7a0-4129-a999-baaf5034d044",
   "metadata": {},
   "outputs": [
    {
     "data": {
      "text/plain": [
       "a       1kg\n",
       "b       1kg\n",
       "c       1kg\n",
       "d       1kg\n",
       "e    1piece\n",
       "Name: unit, dtype: object"
      ]
     },
     "execution_count": 97,
     "metadata": {},
     "output_type": "execute_result"
    }
   ],
   "source": [
    "koyambedu_market1['unit']"
   ]
  },
  {
   "cell_type": "code",
   "execution_count": 99,
   "id": "1fc0d058-030a-4dc6-b5ea-33d21bcd9ac9",
   "metadata": {},
   "outputs": [
    {
     "data": {
      "text/plain": [
       "vegetables    beetroot\n",
       "color           purple\n",
       "unit               1kg\n",
       "min                 15\n",
       "max                 40\n",
       "Name: a, dtype: object"
      ]
     },
     "execution_count": 99,
     "metadata": {},
     "output_type": "execute_result"
    }
   ],
   "source": [
    "  koyambedu_market1.loc['a']"
   ]
  },
  {
   "cell_type": "code",
   "execution_count": 101,
   "id": "8d91c602-89cd-4e47-b3a3-8d56178c265b",
   "metadata": {},
   "outputs": [
    {
     "data": {
      "text/plain": [
       "'1kg'"
      ]
     },
     "execution_count": 101,
     "metadata": {},
     "output_type": "execute_result"
    }
   ],
   "source": [
    "  koyambedu_market1.loc['a','unit']"
   ]
  },
  {
   "cell_type": "code",
   "execution_count": 103,
   "id": "3e7a47b3-33ca-4511-8587-90d6e5929ac1",
   "metadata": {},
   "outputs": [
    {
     "data": {
      "text/html": [
       "<div>\n",
       "<style scoped>\n",
       "    .dataframe tbody tr th:only-of-type {\n",
       "        vertical-align: middle;\n",
       "    }\n",
       "\n",
       "    .dataframe tbody tr th {\n",
       "        vertical-align: top;\n",
       "    }\n",
       "\n",
       "    .dataframe thead th {\n",
       "        text-align: right;\n",
       "    }\n",
       "</style>\n",
       "<table border=\"1\" class=\"dataframe\">\n",
       "  <thead>\n",
       "    <tr style=\"text-align: right;\">\n",
       "      <th></th>\n",
       "      <th>vegetables</th>\n",
       "      <th>color</th>\n",
       "      <th>unit</th>\n",
       "    </tr>\n",
       "  </thead>\n",
       "  <tbody>\n",
       "    <tr>\n",
       "      <th>a</th>\n",
       "      <td>beetroot</td>\n",
       "      <td>purple</td>\n",
       "      <td>1kg</td>\n",
       "    </tr>\n",
       "    <tr>\n",
       "      <th>b</th>\n",
       "      <td>carrot</td>\n",
       "      <td>orange</td>\n",
       "      <td>1kg</td>\n",
       "    </tr>\n",
       "    <tr>\n",
       "      <th>c</th>\n",
       "      <td>tomato</td>\n",
       "      <td>red</td>\n",
       "      <td>1kg</td>\n",
       "    </tr>\n",
       "  </tbody>\n",
       "</table>\n",
       "</div>"
      ],
      "text/plain": [
       "  vegetables   color unit\n",
       "a   beetroot  purple  1kg\n",
       "b     carrot  orange  1kg\n",
       "c     tomato     red  1kg"
      ]
     },
     "execution_count": 103,
     "metadata": {},
     "output_type": "execute_result"
    }
   ],
   "source": [
    "  koyambedu_market1.iloc[0:3,0:3]"
   ]
  },
  {
   "cell_type": "code",
   "execution_count": 105,
   "id": "acef2ddf-52f9-4c2e-8d64-73d50b20a517",
   "metadata": {},
   "outputs": [],
   "source": [
    "  koyambedu_market1.loc['f']={'vegetables':'poosanikai','color':'Yellow','unit':'1piece','min':10,'max':30}"
   ]
  },
  {
   "cell_type": "code",
   "execution_count": 107,
   "id": "594d9fdf-188a-4e03-b902-0b9e82a2f747",
   "metadata": {},
   "outputs": [
    {
     "data": {
      "text/html": [
       "<div>\n",
       "<style scoped>\n",
       "    .dataframe tbody tr th:only-of-type {\n",
       "        vertical-align: middle;\n",
       "    }\n",
       "\n",
       "    .dataframe tbody tr th {\n",
       "        vertical-align: top;\n",
       "    }\n",
       "\n",
       "    .dataframe thead th {\n",
       "        text-align: right;\n",
       "    }\n",
       "</style>\n",
       "<table border=\"1\" class=\"dataframe\">\n",
       "  <thead>\n",
       "    <tr style=\"text-align: right;\">\n",
       "      <th></th>\n",
       "      <th>vegetables</th>\n",
       "      <th>color</th>\n",
       "      <th>unit</th>\n",
       "      <th>min</th>\n",
       "      <th>max</th>\n",
       "    </tr>\n",
       "  </thead>\n",
       "  <tbody>\n",
       "    <tr>\n",
       "      <th>a</th>\n",
       "      <td>beetroot</td>\n",
       "      <td>purple</td>\n",
       "      <td>1kg</td>\n",
       "      <td>15</td>\n",
       "      <td>40</td>\n",
       "    </tr>\n",
       "    <tr>\n",
       "      <th>b</th>\n",
       "      <td>carrot</td>\n",
       "      <td>orange</td>\n",
       "      <td>1kg</td>\n",
       "      <td>25</td>\n",
       "      <td>45</td>\n",
       "    </tr>\n",
       "    <tr>\n",
       "      <th>c</th>\n",
       "      <td>tomato</td>\n",
       "      <td>red</td>\n",
       "      <td>1kg</td>\n",
       "      <td>53</td>\n",
       "      <td>90</td>\n",
       "    </tr>\n",
       "    <tr>\n",
       "      <th>d</th>\n",
       "      <td>kovakkai</td>\n",
       "      <td>green</td>\n",
       "      <td>1kg</td>\n",
       "      <td>30</td>\n",
       "      <td>45</td>\n",
       "    </tr>\n",
       "    <tr>\n",
       "      <th>e</th>\n",
       "      <td>coconut</td>\n",
       "      <td>white</td>\n",
       "      <td>1piece</td>\n",
       "      <td>seventeen</td>\n",
       "      <td>38</td>\n",
       "    </tr>\n",
       "    <tr>\n",
       "      <th>f</th>\n",
       "      <td>poosanikai</td>\n",
       "      <td>Yellow</td>\n",
       "      <td>1piece</td>\n",
       "      <td>10</td>\n",
       "      <td>30</td>\n",
       "    </tr>\n",
       "  </tbody>\n",
       "</table>\n",
       "</div>"
      ],
      "text/plain": [
       "   vegetables   color    unit        min  max\n",
       "a    beetroot  purple     1kg         15   40\n",
       "b      carrot  orange     1kg         25   45\n",
       "c      tomato     red     1kg         53   90\n",
       "d    kovakkai   green     1kg         30   45\n",
       "e     coconut   white  1piece  seventeen   38\n",
       "f  poosanikai  Yellow  1piece         10   30"
      ]
     },
     "execution_count": 107,
     "metadata": {},
     "output_type": "execute_result"
    }
   ],
   "source": [
    "  koyambedu_market1"
   ]
  },
  {
   "cell_type": "markdown",
   "id": "75a02198-acaf-4fba-9348-ffbcb2978332",
   "metadata": {},
   "source": [
    "Above is a new row"
   ]
  },
  {
   "cell_type": "markdown",
   "id": "a951a9a2-af37-48fa-bd44-5d566df8682e",
   "metadata": {},
   "source": [
    "Below is a new col"
   ]
  },
  {
   "cell_type": "code",
   "execution_count": 113,
   "id": "f9e16872-5a16-4c9e-b89e-1a51278042f0",
   "metadata": {},
   "outputs": [],
   "source": [
    "  koyambedu_market1['average']=[20,35,75,35,25,20]"
   ]
  },
  {
   "cell_type": "code",
   "execution_count": 115,
   "id": "4c487015-7c97-48d2-8d55-e6892b599b6b",
   "metadata": {},
   "outputs": [
    {
     "data": {
      "text/html": [
       "<div>\n",
       "<style scoped>\n",
       "    .dataframe tbody tr th:only-of-type {\n",
       "        vertical-align: middle;\n",
       "    }\n",
       "\n",
       "    .dataframe tbody tr th {\n",
       "        vertical-align: top;\n",
       "    }\n",
       "\n",
       "    .dataframe thead th {\n",
       "        text-align: right;\n",
       "    }\n",
       "</style>\n",
       "<table border=\"1\" class=\"dataframe\">\n",
       "  <thead>\n",
       "    <tr style=\"text-align: right;\">\n",
       "      <th></th>\n",
       "      <th>vegetables</th>\n",
       "      <th>color</th>\n",
       "      <th>unit</th>\n",
       "      <th>min</th>\n",
       "      <th>max</th>\n",
       "      <th>average</th>\n",
       "    </tr>\n",
       "  </thead>\n",
       "  <tbody>\n",
       "    <tr>\n",
       "      <th>a</th>\n",
       "      <td>beetroot</td>\n",
       "      <td>purple</td>\n",
       "      <td>1kg</td>\n",
       "      <td>15</td>\n",
       "      <td>40</td>\n",
       "      <td>20</td>\n",
       "    </tr>\n",
       "    <tr>\n",
       "      <th>b</th>\n",
       "      <td>carrot</td>\n",
       "      <td>orange</td>\n",
       "      <td>1kg</td>\n",
       "      <td>25</td>\n",
       "      <td>45</td>\n",
       "      <td>35</td>\n",
       "    </tr>\n",
       "    <tr>\n",
       "      <th>c</th>\n",
       "      <td>tomato</td>\n",
       "      <td>red</td>\n",
       "      <td>1kg</td>\n",
       "      <td>53</td>\n",
       "      <td>90</td>\n",
       "      <td>75</td>\n",
       "    </tr>\n",
       "    <tr>\n",
       "      <th>d</th>\n",
       "      <td>kovakkai</td>\n",
       "      <td>green</td>\n",
       "      <td>1kg</td>\n",
       "      <td>30</td>\n",
       "      <td>45</td>\n",
       "      <td>35</td>\n",
       "    </tr>\n",
       "    <tr>\n",
       "      <th>e</th>\n",
       "      <td>coconut</td>\n",
       "      <td>white</td>\n",
       "      <td>1piece</td>\n",
       "      <td>seventeen</td>\n",
       "      <td>38</td>\n",
       "      <td>25</td>\n",
       "    </tr>\n",
       "    <tr>\n",
       "      <th>f</th>\n",
       "      <td>poosanikai</td>\n",
       "      <td>Yellow</td>\n",
       "      <td>1piece</td>\n",
       "      <td>10</td>\n",
       "      <td>30</td>\n",
       "      <td>20</td>\n",
       "    </tr>\n",
       "  </tbody>\n",
       "</table>\n",
       "</div>"
      ],
      "text/plain": [
       "   vegetables   color    unit        min  max  average\n",
       "a    beetroot  purple     1kg         15   40       20\n",
       "b      carrot  orange     1kg         25   45       35\n",
       "c      tomato     red     1kg         53   90       75\n",
       "d    kovakkai   green     1kg         30   45       35\n",
       "e     coconut   white  1piece  seventeen   38       25\n",
       "f  poosanikai  Yellow  1piece         10   30       20"
      ]
     },
     "execution_count": 115,
     "metadata": {},
     "output_type": "execute_result"
    }
   ],
   "source": [
    "  koyambedu_market1"
   ]
  },
  {
   "cell_type": "markdown",
   "id": "2049352d-7231-4423-a034-c282f34a5ba3",
   "metadata": {},
   "source": [
    "If we want to remove the row or column, then we use the drop"
   ]
  },
  {
   "cell_type": "code",
   "execution_count": 118,
   "id": "36f902bf-d903-4747-be72-92b000b357f1",
   "metadata": {},
   "outputs": [
    {
     "data": {
      "text/html": [
       "<div>\n",
       "<style scoped>\n",
       "    .dataframe tbody tr th:only-of-type {\n",
       "        vertical-align: middle;\n",
       "    }\n",
       "\n",
       "    .dataframe tbody tr th {\n",
       "        vertical-align: top;\n",
       "    }\n",
       "\n",
       "    .dataframe thead th {\n",
       "        text-align: right;\n",
       "    }\n",
       "</style>\n",
       "<table border=\"1\" class=\"dataframe\">\n",
       "  <thead>\n",
       "    <tr style=\"text-align: right;\">\n",
       "      <th></th>\n",
       "      <th>vegetables</th>\n",
       "      <th>color</th>\n",
       "      <th>unit</th>\n",
       "      <th>min</th>\n",
       "      <th>max</th>\n",
       "      <th>average</th>\n",
       "    </tr>\n",
       "  </thead>\n",
       "  <tbody>\n",
       "    <tr>\n",
       "      <th>a</th>\n",
       "      <td>beetroot</td>\n",
       "      <td>purple</td>\n",
       "      <td>1kg</td>\n",
       "      <td>15</td>\n",
       "      <td>40</td>\n",
       "      <td>20</td>\n",
       "    </tr>\n",
       "    <tr>\n",
       "      <th>b</th>\n",
       "      <td>carrot</td>\n",
       "      <td>orange</td>\n",
       "      <td>1kg</td>\n",
       "      <td>25</td>\n",
       "      <td>45</td>\n",
       "      <td>35</td>\n",
       "    </tr>\n",
       "    <tr>\n",
       "      <th>c</th>\n",
       "      <td>tomato</td>\n",
       "      <td>red</td>\n",
       "      <td>1kg</td>\n",
       "      <td>53</td>\n",
       "      <td>90</td>\n",
       "      <td>75</td>\n",
       "    </tr>\n",
       "    <tr>\n",
       "      <th>d</th>\n",
       "      <td>kovakkai</td>\n",
       "      <td>green</td>\n",
       "      <td>1kg</td>\n",
       "      <td>30</td>\n",
       "      <td>45</td>\n",
       "      <td>35</td>\n",
       "    </tr>\n",
       "    <tr>\n",
       "      <th>e</th>\n",
       "      <td>coconut</td>\n",
       "      <td>white</td>\n",
       "      <td>1piece</td>\n",
       "      <td>seventeen</td>\n",
       "      <td>38</td>\n",
       "      <td>25</td>\n",
       "    </tr>\n",
       "  </tbody>\n",
       "</table>\n",
       "</div>"
      ],
      "text/plain": [
       "  vegetables   color    unit        min  max  average\n",
       "a   beetroot  purple     1kg         15   40       20\n",
       "b     carrot  orange     1kg         25   45       35\n",
       "c     tomato     red     1kg         53   90       75\n",
       "d   kovakkai   green     1kg         30   45       35\n",
       "e    coconut   white  1piece  seventeen   38       25"
      ]
     },
     "execution_count": 118,
     "metadata": {},
     "output_type": "execute_result"
    }
   ],
   "source": [
    "  koyambedu_market1.drop(['f'], axis=0)"
   ]
  },
  {
   "cell_type": "code",
   "execution_count": 120,
   "id": "5458977b-1a71-467a-86b2-15dff53d795f",
   "metadata": {},
   "outputs": [],
   "source": [
    "koyambedu_market1.drop(['f'], axis=0,inplace=True)"
   ]
  },
  {
   "cell_type": "code",
   "execution_count": 122,
   "id": "93558a14-0d34-412c-9ff6-33611ebb1688",
   "metadata": {},
   "outputs": [
    {
     "data": {
      "text/html": [
       "<div>\n",
       "<style scoped>\n",
       "    .dataframe tbody tr th:only-of-type {\n",
       "        vertical-align: middle;\n",
       "    }\n",
       "\n",
       "    .dataframe tbody tr th {\n",
       "        vertical-align: top;\n",
       "    }\n",
       "\n",
       "    .dataframe thead th {\n",
       "        text-align: right;\n",
       "    }\n",
       "</style>\n",
       "<table border=\"1\" class=\"dataframe\">\n",
       "  <thead>\n",
       "    <tr style=\"text-align: right;\">\n",
       "      <th></th>\n",
       "      <th>vegetables</th>\n",
       "      <th>color</th>\n",
       "      <th>unit</th>\n",
       "      <th>min</th>\n",
       "      <th>max</th>\n",
       "      <th>average</th>\n",
       "    </tr>\n",
       "  </thead>\n",
       "  <tbody>\n",
       "    <tr>\n",
       "      <th>a</th>\n",
       "      <td>beetroot</td>\n",
       "      <td>purple</td>\n",
       "      <td>1kg</td>\n",
       "      <td>15</td>\n",
       "      <td>40</td>\n",
       "      <td>20</td>\n",
       "    </tr>\n",
       "    <tr>\n",
       "      <th>b</th>\n",
       "      <td>carrot</td>\n",
       "      <td>orange</td>\n",
       "      <td>1kg</td>\n",
       "      <td>25</td>\n",
       "      <td>45</td>\n",
       "      <td>35</td>\n",
       "    </tr>\n",
       "    <tr>\n",
       "      <th>c</th>\n",
       "      <td>tomato</td>\n",
       "      <td>red</td>\n",
       "      <td>1kg</td>\n",
       "      <td>53</td>\n",
       "      <td>90</td>\n",
       "      <td>75</td>\n",
       "    </tr>\n",
       "    <tr>\n",
       "      <th>d</th>\n",
       "      <td>kovakkai</td>\n",
       "      <td>green</td>\n",
       "      <td>1kg</td>\n",
       "      <td>30</td>\n",
       "      <td>45</td>\n",
       "      <td>35</td>\n",
       "    </tr>\n",
       "    <tr>\n",
       "      <th>e</th>\n",
       "      <td>coconut</td>\n",
       "      <td>white</td>\n",
       "      <td>1piece</td>\n",
       "      <td>seventeen</td>\n",
       "      <td>38</td>\n",
       "      <td>25</td>\n",
       "    </tr>\n",
       "  </tbody>\n",
       "</table>\n",
       "</div>"
      ],
      "text/plain": [
       "  vegetables   color    unit        min  max  average\n",
       "a   beetroot  purple     1kg         15   40       20\n",
       "b     carrot  orange     1kg         25   45       35\n",
       "c     tomato     red     1kg         53   90       75\n",
       "d   kovakkai   green     1kg         30   45       35\n",
       "e    coconut   white  1piece  seventeen   38       25"
      ]
     },
     "execution_count": 122,
     "metadata": {},
     "output_type": "execute_result"
    }
   ],
   "source": [
    "koyambedu_market1\n"
   ]
  },
  {
   "cell_type": "code",
   "execution_count": 124,
   "id": "a5c0a065-fc11-4c95-b82b-e110c08d5d3d",
   "metadata": {},
   "outputs": [
    {
     "data": {
      "text/html": [
       "<div>\n",
       "<style scoped>\n",
       "    .dataframe tbody tr th:only-of-type {\n",
       "        vertical-align: middle;\n",
       "    }\n",
       "\n",
       "    .dataframe tbody tr th {\n",
       "        vertical-align: top;\n",
       "    }\n",
       "\n",
       "    .dataframe thead th {\n",
       "        text-align: right;\n",
       "    }\n",
       "</style>\n",
       "<table border=\"1\" class=\"dataframe\">\n",
       "  <thead>\n",
       "    <tr style=\"text-align: right;\">\n",
       "      <th></th>\n",
       "      <th>vegetables</th>\n",
       "      <th>color</th>\n",
       "      <th>unit</th>\n",
       "      <th>min</th>\n",
       "      <th>max</th>\n",
       "    </tr>\n",
       "  </thead>\n",
       "  <tbody>\n",
       "    <tr>\n",
       "      <th>a</th>\n",
       "      <td>beetroot</td>\n",
       "      <td>purple</td>\n",
       "      <td>1kg</td>\n",
       "      <td>15</td>\n",
       "      <td>40</td>\n",
       "    </tr>\n",
       "    <tr>\n",
       "      <th>b</th>\n",
       "      <td>carrot</td>\n",
       "      <td>orange</td>\n",
       "      <td>1kg</td>\n",
       "      <td>25</td>\n",
       "      <td>45</td>\n",
       "    </tr>\n",
       "    <tr>\n",
       "      <th>c</th>\n",
       "      <td>tomato</td>\n",
       "      <td>red</td>\n",
       "      <td>1kg</td>\n",
       "      <td>53</td>\n",
       "      <td>90</td>\n",
       "    </tr>\n",
       "    <tr>\n",
       "      <th>d</th>\n",
       "      <td>kovakkai</td>\n",
       "      <td>green</td>\n",
       "      <td>1kg</td>\n",
       "      <td>30</td>\n",
       "      <td>45</td>\n",
       "    </tr>\n",
       "    <tr>\n",
       "      <th>e</th>\n",
       "      <td>coconut</td>\n",
       "      <td>white</td>\n",
       "      <td>1piece</td>\n",
       "      <td>seventeen</td>\n",
       "      <td>38</td>\n",
       "    </tr>\n",
       "  </tbody>\n",
       "</table>\n",
       "</div>"
      ],
      "text/plain": [
       "  vegetables   color    unit        min  max\n",
       "a   beetroot  purple     1kg         15   40\n",
       "b     carrot  orange     1kg         25   45\n",
       "c     tomato     red     1kg         53   90\n",
       "d   kovakkai   green     1kg         30   45\n",
       "e    coconut   white  1piece  seventeen   38"
      ]
     },
     "execution_count": 124,
     "metadata": {},
     "output_type": "execute_result"
    }
   ],
   "source": [
    "koyambedu_market1.drop(['average'], axis=1)"
   ]
  },
  {
   "cell_type": "markdown",
   "id": "c9891d38-81f1-482c-b19c-e390dd4ee507",
   "metadata": {},
   "source": [
    "Handling the missing values  - isna, sum,any,fillna,dropna"
   ]
  },
  {
   "cell_type": "code",
   "execution_count": 127,
   "id": "b32f5737-7c17-4b6e-941b-c555e5b6d42c",
   "metadata": {},
   "outputs": [
    {
     "data": {
      "text/html": [
       "<div>\n",
       "<style scoped>\n",
       "    .dataframe tbody tr th:only-of-type {\n",
       "        vertical-align: middle;\n",
       "    }\n",
       "\n",
       "    .dataframe tbody tr th {\n",
       "        vertical-align: top;\n",
       "    }\n",
       "\n",
       "    .dataframe thead th {\n",
       "        text-align: right;\n",
       "    }\n",
       "</style>\n",
       "<table border=\"1\" class=\"dataframe\">\n",
       "  <thead>\n",
       "    <tr style=\"text-align: right;\">\n",
       "      <th></th>\n",
       "      <th>vegetables</th>\n",
       "      <th>color</th>\n",
       "      <th>unit</th>\n",
       "      <th>min</th>\n",
       "      <th>max</th>\n",
       "      <th>average</th>\n",
       "    </tr>\n",
       "  </thead>\n",
       "  <tbody>\n",
       "    <tr>\n",
       "      <th>a</th>\n",
       "      <td>beetroot</td>\n",
       "      <td>purple</td>\n",
       "      <td>1kg</td>\n",
       "      <td>15</td>\n",
       "      <td>40</td>\n",
       "      <td>20</td>\n",
       "    </tr>\n",
       "    <tr>\n",
       "      <th>b</th>\n",
       "      <td>carrot</td>\n",
       "      <td>orange</td>\n",
       "      <td>1kg</td>\n",
       "      <td>25</td>\n",
       "      <td>45</td>\n",
       "      <td>35</td>\n",
       "    </tr>\n",
       "    <tr>\n",
       "      <th>c</th>\n",
       "      <td>tomato</td>\n",
       "      <td>red</td>\n",
       "      <td>1kg</td>\n",
       "      <td>53</td>\n",
       "      <td>90</td>\n",
       "      <td>75</td>\n",
       "    </tr>\n",
       "    <tr>\n",
       "      <th>d</th>\n",
       "      <td>kovakkai</td>\n",
       "      <td>green</td>\n",
       "      <td>1kg</td>\n",
       "      <td>30</td>\n",
       "      <td>45</td>\n",
       "      <td>35</td>\n",
       "    </tr>\n",
       "    <tr>\n",
       "      <th>e</th>\n",
       "      <td>coconut</td>\n",
       "      <td>white</td>\n",
       "      <td>1piece</td>\n",
       "      <td>seventeen</td>\n",
       "      <td>38</td>\n",
       "      <td>25</td>\n",
       "    </tr>\n",
       "  </tbody>\n",
       "</table>\n",
       "</div>"
      ],
      "text/plain": [
       "  vegetables   color    unit        min  max  average\n",
       "a   beetroot  purple     1kg         15   40       20\n",
       "b     carrot  orange     1kg         25   45       35\n",
       "c     tomato     red     1kg         53   90       75\n",
       "d   kovakkai   green     1kg         30   45       35\n",
       "e    coconut   white  1piece  seventeen   38       25"
      ]
     },
     "execution_count": 127,
     "metadata": {},
     "output_type": "execute_result"
    }
   ],
   "source": [
    "koyambedu_market1"
   ]
  },
  {
   "cell_type": "code",
   "execution_count": 129,
   "id": "b4ff9aa1-0645-4bc2-a0e1-a990460bdac1",
   "metadata": {},
   "outputs": [
    {
     "data": {
      "text/html": [
       "<div>\n",
       "<style scoped>\n",
       "    .dataframe tbody tr th:only-of-type {\n",
       "        vertical-align: middle;\n",
       "    }\n",
       "\n",
       "    .dataframe tbody tr th {\n",
       "        vertical-align: top;\n",
       "    }\n",
       "\n",
       "    .dataframe thead th {\n",
       "        text-align: right;\n",
       "    }\n",
       "</style>\n",
       "<table border=\"1\" class=\"dataframe\">\n",
       "  <thead>\n",
       "    <tr style=\"text-align: right;\">\n",
       "      <th></th>\n",
       "      <th>vegetables</th>\n",
       "      <th>color</th>\n",
       "      <th>unit</th>\n",
       "      <th>min</th>\n",
       "      <th>max</th>\n",
       "      <th>average</th>\n",
       "    </tr>\n",
       "  </thead>\n",
       "  <tbody>\n",
       "    <tr>\n",
       "      <th>a</th>\n",
       "      <td>False</td>\n",
       "      <td>False</td>\n",
       "      <td>False</td>\n",
       "      <td>False</td>\n",
       "      <td>False</td>\n",
       "      <td>False</td>\n",
       "    </tr>\n",
       "    <tr>\n",
       "      <th>b</th>\n",
       "      <td>False</td>\n",
       "      <td>False</td>\n",
       "      <td>False</td>\n",
       "      <td>False</td>\n",
       "      <td>False</td>\n",
       "      <td>False</td>\n",
       "    </tr>\n",
       "    <tr>\n",
       "      <th>c</th>\n",
       "      <td>False</td>\n",
       "      <td>False</td>\n",
       "      <td>False</td>\n",
       "      <td>False</td>\n",
       "      <td>False</td>\n",
       "      <td>False</td>\n",
       "    </tr>\n",
       "    <tr>\n",
       "      <th>d</th>\n",
       "      <td>False</td>\n",
       "      <td>False</td>\n",
       "      <td>False</td>\n",
       "      <td>False</td>\n",
       "      <td>False</td>\n",
       "      <td>False</td>\n",
       "    </tr>\n",
       "    <tr>\n",
       "      <th>e</th>\n",
       "      <td>False</td>\n",
       "      <td>False</td>\n",
       "      <td>False</td>\n",
       "      <td>False</td>\n",
       "      <td>False</td>\n",
       "      <td>False</td>\n",
       "    </tr>\n",
       "  </tbody>\n",
       "</table>\n",
       "</div>"
      ],
      "text/plain": [
       "   vegetables  color   unit    min    max  average\n",
       "a       False  False  False  False  False    False\n",
       "b       False  False  False  False  False    False\n",
       "c       False  False  False  False  False    False\n",
       "d       False  False  False  False  False    False\n",
       "e       False  False  False  False  False    False"
      ]
     },
     "execution_count": 129,
     "metadata": {},
     "output_type": "execute_result"
    }
   ],
   "source": [
    "koyambedu_market1.isna()"
   ]
  },
  {
   "cell_type": "code",
   "execution_count": 131,
   "id": "f48e5444-7b54-4c5f-9f83-e8687dfdd14a",
   "metadata": {},
   "outputs": [
    {
     "data": {
      "text/plain": [
       "vegetables    0\n",
       "color         0\n",
       "unit          0\n",
       "min           0\n",
       "max           0\n",
       "average       0\n",
       "dtype: int64"
      ]
     },
     "execution_count": 131,
     "metadata": {},
     "output_type": "execute_result"
    }
   ],
   "source": [
    "koyambedu_market1.isna().sum()"
   ]
  },
  {
   "cell_type": "code",
   "execution_count": 137,
   "id": "9c4db899-db08-410d-9491-aa3444b9cdaf",
   "metadata": {},
   "outputs": [],
   "source": [
    "import numpy as np\n",
    "koyambedu_market1['season']=[True,True,False,False,np.nan]"
   ]
  },
  {
   "cell_type": "code",
   "execution_count": 139,
   "id": "419ceb63-18df-433e-a4a6-f0fa8fcfd8ee",
   "metadata": {},
   "outputs": [
    {
     "data": {
      "text/html": [
       "<div>\n",
       "<style scoped>\n",
       "    .dataframe tbody tr th:only-of-type {\n",
       "        vertical-align: middle;\n",
       "    }\n",
       "\n",
       "    .dataframe tbody tr th {\n",
       "        vertical-align: top;\n",
       "    }\n",
       "\n",
       "    .dataframe thead th {\n",
       "        text-align: right;\n",
       "    }\n",
       "</style>\n",
       "<table border=\"1\" class=\"dataframe\">\n",
       "  <thead>\n",
       "    <tr style=\"text-align: right;\">\n",
       "      <th></th>\n",
       "      <th>vegetables</th>\n",
       "      <th>color</th>\n",
       "      <th>unit</th>\n",
       "      <th>min</th>\n",
       "      <th>max</th>\n",
       "      <th>average</th>\n",
       "      <th>season</th>\n",
       "    </tr>\n",
       "  </thead>\n",
       "  <tbody>\n",
       "    <tr>\n",
       "      <th>a</th>\n",
       "      <td>beetroot</td>\n",
       "      <td>purple</td>\n",
       "      <td>1kg</td>\n",
       "      <td>15</td>\n",
       "      <td>40</td>\n",
       "      <td>20</td>\n",
       "      <td>True</td>\n",
       "    </tr>\n",
       "    <tr>\n",
       "      <th>b</th>\n",
       "      <td>carrot</td>\n",
       "      <td>orange</td>\n",
       "      <td>1kg</td>\n",
       "      <td>25</td>\n",
       "      <td>45</td>\n",
       "      <td>35</td>\n",
       "      <td>True</td>\n",
       "    </tr>\n",
       "    <tr>\n",
       "      <th>c</th>\n",
       "      <td>tomato</td>\n",
       "      <td>red</td>\n",
       "      <td>1kg</td>\n",
       "      <td>53</td>\n",
       "      <td>90</td>\n",
       "      <td>75</td>\n",
       "      <td>False</td>\n",
       "    </tr>\n",
       "    <tr>\n",
       "      <th>d</th>\n",
       "      <td>kovakkai</td>\n",
       "      <td>green</td>\n",
       "      <td>1kg</td>\n",
       "      <td>30</td>\n",
       "      <td>45</td>\n",
       "      <td>35</td>\n",
       "      <td>False</td>\n",
       "    </tr>\n",
       "    <tr>\n",
       "      <th>e</th>\n",
       "      <td>coconut</td>\n",
       "      <td>white</td>\n",
       "      <td>1piece</td>\n",
       "      <td>seventeen</td>\n",
       "      <td>38</td>\n",
       "      <td>25</td>\n",
       "      <td>NaN</td>\n",
       "    </tr>\n",
       "  </tbody>\n",
       "</table>\n",
       "</div>"
      ],
      "text/plain": [
       "  vegetables   color    unit        min  max  average season\n",
       "a   beetroot  purple     1kg         15   40       20   True\n",
       "b     carrot  orange     1kg         25   45       35   True\n",
       "c     tomato     red     1kg         53   90       75  False\n",
       "d   kovakkai   green     1kg         30   45       35  False\n",
       "e    coconut   white  1piece  seventeen   38       25    NaN"
      ]
     },
     "execution_count": 139,
     "metadata": {},
     "output_type": "execute_result"
    }
   ],
   "source": [
    "koyambedu_market1"
   ]
  },
  {
   "cell_type": "code",
   "execution_count": 141,
   "id": "e7adcb62-9c81-4f87-a980-f7ef4ab1ba6b",
   "metadata": {},
   "outputs": [
    {
     "data": {
      "text/plain": [
       "vegetables    0\n",
       "color         0\n",
       "unit          0\n",
       "min           0\n",
       "max           0\n",
       "average       0\n",
       "season        1\n",
       "dtype: int64"
      ]
     },
     "execution_count": 141,
     "metadata": {},
     "output_type": "execute_result"
    }
   ],
   "source": [
    "koyambedu_market1.isna().sum()"
   ]
  },
  {
   "cell_type": "code",
   "execution_count": 143,
   "id": "e158ddb8-75b5-40f8-86e5-cfc8b0b5968e",
   "metadata": {},
   "outputs": [
    {
     "name": "stderr",
     "output_type": "stream",
     "text": [
      "C:\\Users\\bhark\\AppData\\Local\\Temp\\ipykernel_2504\\3951670091.py:1: FutureWarning: Downcasting object dtype arrays on .fillna, .ffill, .bfill is deprecated and will change in a future version. Call result.infer_objects(copy=False) instead. To opt-in to the future behavior, set `pd.set_option('future.no_silent_downcasting', True)`\n",
      "  koyambedu_market1.fillna(False)\n"
     ]
    },
    {
     "data": {
      "text/html": [
       "<div>\n",
       "<style scoped>\n",
       "    .dataframe tbody tr th:only-of-type {\n",
       "        vertical-align: middle;\n",
       "    }\n",
       "\n",
       "    .dataframe tbody tr th {\n",
       "        vertical-align: top;\n",
       "    }\n",
       "\n",
       "    .dataframe thead th {\n",
       "        text-align: right;\n",
       "    }\n",
       "</style>\n",
       "<table border=\"1\" class=\"dataframe\">\n",
       "  <thead>\n",
       "    <tr style=\"text-align: right;\">\n",
       "      <th></th>\n",
       "      <th>vegetables</th>\n",
       "      <th>color</th>\n",
       "      <th>unit</th>\n",
       "      <th>min</th>\n",
       "      <th>max</th>\n",
       "      <th>average</th>\n",
       "      <th>season</th>\n",
       "    </tr>\n",
       "  </thead>\n",
       "  <tbody>\n",
       "    <tr>\n",
       "      <th>a</th>\n",
       "      <td>beetroot</td>\n",
       "      <td>purple</td>\n",
       "      <td>1kg</td>\n",
       "      <td>15</td>\n",
       "      <td>40</td>\n",
       "      <td>20</td>\n",
       "      <td>True</td>\n",
       "    </tr>\n",
       "    <tr>\n",
       "      <th>b</th>\n",
       "      <td>carrot</td>\n",
       "      <td>orange</td>\n",
       "      <td>1kg</td>\n",
       "      <td>25</td>\n",
       "      <td>45</td>\n",
       "      <td>35</td>\n",
       "      <td>True</td>\n",
       "    </tr>\n",
       "    <tr>\n",
       "      <th>c</th>\n",
       "      <td>tomato</td>\n",
       "      <td>red</td>\n",
       "      <td>1kg</td>\n",
       "      <td>53</td>\n",
       "      <td>90</td>\n",
       "      <td>75</td>\n",
       "      <td>False</td>\n",
       "    </tr>\n",
       "    <tr>\n",
       "      <th>d</th>\n",
       "      <td>kovakkai</td>\n",
       "      <td>green</td>\n",
       "      <td>1kg</td>\n",
       "      <td>30</td>\n",
       "      <td>45</td>\n",
       "      <td>35</td>\n",
       "      <td>False</td>\n",
       "    </tr>\n",
       "    <tr>\n",
       "      <th>e</th>\n",
       "      <td>coconut</td>\n",
       "      <td>white</td>\n",
       "      <td>1piece</td>\n",
       "      <td>seventeen</td>\n",
       "      <td>38</td>\n",
       "      <td>25</td>\n",
       "      <td>False</td>\n",
       "    </tr>\n",
       "  </tbody>\n",
       "</table>\n",
       "</div>"
      ],
      "text/plain": [
       "  vegetables   color    unit        min  max  average  season\n",
       "a   beetroot  purple     1kg         15   40       20    True\n",
       "b     carrot  orange     1kg         25   45       35    True\n",
       "c     tomato     red     1kg         53   90       75   False\n",
       "d   kovakkai   green     1kg         30   45       35   False\n",
       "e    coconut   white  1piece  seventeen   38       25   False"
      ]
     },
     "execution_count": 143,
     "metadata": {},
     "output_type": "execute_result"
    }
   ],
   "source": [
    "koyambedu_market1.fillna(False)"
   ]
  },
  {
   "cell_type": "code",
   "execution_count": 145,
   "id": "a68a4812-4bc0-432b-a69e-4eeec6ba1274",
   "metadata": {},
   "outputs": [
    {
     "name": "stderr",
     "output_type": "stream",
     "text": [
      "C:\\Users\\bhark\\AppData\\Local\\Temp\\ipykernel_2504\\2601385065.py:1: FutureWarning: Downcasting object dtype arrays on .fillna, .ffill, .bfill is deprecated and will change in a future version. Call result.infer_objects(copy=False) instead. To opt-in to the future behavior, set `pd.set_option('future.no_silent_downcasting', True)`\n",
      "  koyambedu_market1.fillna(False,inplace=True)\n"
     ]
    }
   ],
   "source": [
    "koyambedu_market1.fillna(False,inplace=True)"
   ]
  },
  {
   "cell_type": "code",
   "execution_count": 147,
   "id": "0d826ff8-31de-463d-9c53-74e6aaa6d1fc",
   "metadata": {},
   "outputs": [
    {
     "data": {
      "text/html": [
       "<div>\n",
       "<style scoped>\n",
       "    .dataframe tbody tr th:only-of-type {\n",
       "        vertical-align: middle;\n",
       "    }\n",
       "\n",
       "    .dataframe tbody tr th {\n",
       "        vertical-align: top;\n",
       "    }\n",
       "\n",
       "    .dataframe thead th {\n",
       "        text-align: right;\n",
       "    }\n",
       "</style>\n",
       "<table border=\"1\" class=\"dataframe\">\n",
       "  <thead>\n",
       "    <tr style=\"text-align: right;\">\n",
       "      <th></th>\n",
       "      <th>vegetables</th>\n",
       "      <th>color</th>\n",
       "      <th>unit</th>\n",
       "      <th>min</th>\n",
       "      <th>max</th>\n",
       "      <th>average</th>\n",
       "      <th>season</th>\n",
       "    </tr>\n",
       "  </thead>\n",
       "  <tbody>\n",
       "    <tr>\n",
       "      <th>a</th>\n",
       "      <td>beetroot</td>\n",
       "      <td>purple</td>\n",
       "      <td>1kg</td>\n",
       "      <td>15</td>\n",
       "      <td>40</td>\n",
       "      <td>20</td>\n",
       "      <td>True</td>\n",
       "    </tr>\n",
       "    <tr>\n",
       "      <th>b</th>\n",
       "      <td>carrot</td>\n",
       "      <td>orange</td>\n",
       "      <td>1kg</td>\n",
       "      <td>25</td>\n",
       "      <td>45</td>\n",
       "      <td>35</td>\n",
       "      <td>True</td>\n",
       "    </tr>\n",
       "    <tr>\n",
       "      <th>c</th>\n",
       "      <td>tomato</td>\n",
       "      <td>red</td>\n",
       "      <td>1kg</td>\n",
       "      <td>53</td>\n",
       "      <td>90</td>\n",
       "      <td>75</td>\n",
       "      <td>False</td>\n",
       "    </tr>\n",
       "    <tr>\n",
       "      <th>d</th>\n",
       "      <td>kovakkai</td>\n",
       "      <td>green</td>\n",
       "      <td>1kg</td>\n",
       "      <td>30</td>\n",
       "      <td>45</td>\n",
       "      <td>35</td>\n",
       "      <td>False</td>\n",
       "    </tr>\n",
       "    <tr>\n",
       "      <th>e</th>\n",
       "      <td>coconut</td>\n",
       "      <td>white</td>\n",
       "      <td>1piece</td>\n",
       "      <td>seventeen</td>\n",
       "      <td>38</td>\n",
       "      <td>25</td>\n",
       "      <td>False</td>\n",
       "    </tr>\n",
       "  </tbody>\n",
       "</table>\n",
       "</div>"
      ],
      "text/plain": [
       "  vegetables   color    unit        min  max  average  season\n",
       "a   beetroot  purple     1kg         15   40       20    True\n",
       "b     carrot  orange     1kg         25   45       35    True\n",
       "c     tomato     red     1kg         53   90       75   False\n",
       "d   kovakkai   green     1kg         30   45       35   False\n",
       "e    coconut   white  1piece  seventeen   38       25   False"
      ]
     },
     "execution_count": 147,
     "metadata": {},
     "output_type": "execute_result"
    }
   ],
   "source": [
    "koyambedu_market1"
   ]
  },
  {
   "cell_type": "code",
   "execution_count": 149,
   "id": "60c499a3-0237-404d-98fc-5376d63a68f2",
   "metadata": {},
   "outputs": [],
   "source": [
    "koyambedu_market1['season']=[True,True,False,False,np.nan]"
   ]
  },
  {
   "cell_type": "code",
   "execution_count": 151,
   "id": "fb422c2f-3142-4027-b50f-f32a19e51ae4",
   "metadata": {},
   "outputs": [
    {
     "data": {
      "text/html": [
       "<div>\n",
       "<style scoped>\n",
       "    .dataframe tbody tr th:only-of-type {\n",
       "        vertical-align: middle;\n",
       "    }\n",
       "\n",
       "    .dataframe tbody tr th {\n",
       "        vertical-align: top;\n",
       "    }\n",
       "\n",
       "    .dataframe thead th {\n",
       "        text-align: right;\n",
       "    }\n",
       "</style>\n",
       "<table border=\"1\" class=\"dataframe\">\n",
       "  <thead>\n",
       "    <tr style=\"text-align: right;\">\n",
       "      <th></th>\n",
       "      <th>vegetables</th>\n",
       "      <th>color</th>\n",
       "      <th>unit</th>\n",
       "      <th>min</th>\n",
       "      <th>max</th>\n",
       "      <th>average</th>\n",
       "      <th>season</th>\n",
       "    </tr>\n",
       "  </thead>\n",
       "  <tbody>\n",
       "    <tr>\n",
       "      <th>a</th>\n",
       "      <td>beetroot</td>\n",
       "      <td>purple</td>\n",
       "      <td>1kg</td>\n",
       "      <td>15</td>\n",
       "      <td>40</td>\n",
       "      <td>20</td>\n",
       "      <td>True</td>\n",
       "    </tr>\n",
       "    <tr>\n",
       "      <th>b</th>\n",
       "      <td>carrot</td>\n",
       "      <td>orange</td>\n",
       "      <td>1kg</td>\n",
       "      <td>25</td>\n",
       "      <td>45</td>\n",
       "      <td>35</td>\n",
       "      <td>True</td>\n",
       "    </tr>\n",
       "    <tr>\n",
       "      <th>c</th>\n",
       "      <td>tomato</td>\n",
       "      <td>red</td>\n",
       "      <td>1kg</td>\n",
       "      <td>53</td>\n",
       "      <td>90</td>\n",
       "      <td>75</td>\n",
       "      <td>False</td>\n",
       "    </tr>\n",
       "    <tr>\n",
       "      <th>d</th>\n",
       "      <td>kovakkai</td>\n",
       "      <td>green</td>\n",
       "      <td>1kg</td>\n",
       "      <td>30</td>\n",
       "      <td>45</td>\n",
       "      <td>35</td>\n",
       "      <td>False</td>\n",
       "    </tr>\n",
       "  </tbody>\n",
       "</table>\n",
       "</div>"
      ],
      "text/plain": [
       "  vegetables   color unit min  max  average season\n",
       "a   beetroot  purple  1kg  15   40       20   True\n",
       "b     carrot  orange  1kg  25   45       35   True\n",
       "c     tomato     red  1kg  53   90       75  False\n",
       "d   kovakkai   green  1kg  30   45       35  False"
      ]
     },
     "execution_count": 151,
     "metadata": {},
     "output_type": "execute_result"
    }
   ],
   "source": [
    "koyambedu_market1.dropna(axis=0)"
   ]
  },
  {
   "cell_type": "code",
   "execution_count": 155,
   "id": "6e489462-7f60-47cd-9026-d0c8be59d12f",
   "metadata": {},
   "outputs": [
    {
     "data": {
      "text/plain": [
       "a    45\n",
       "b    50\n",
       "c    95\n",
       "d    50\n",
       "e    43\n",
       "Name: max, dtype: int64"
      ]
     },
     "execution_count": 155,
     "metadata": {},
     "output_type": "execute_result"
    }
   ],
   "source": [
    "koyambedu_market1['max'].apply(lambda x:x+5)"
   ]
  },
  {
   "cell_type": "markdown",
   "id": "32e45e54-c005-4073-a4d0-cdf59d85623b",
   "metadata": {},
   "source": [
    "but how to update this in original dataset"
   ]
  },
  {
   "cell_type": "code",
   "execution_count": 158,
   "id": "7fea7ed1-7bc1-4ec1-b710-ae185b230405",
   "metadata": {},
   "outputs": [],
   "source": [
    "koyambedu_market1['max']=koyambedu_market1['max'].apply(lambda x:x+5)"
   ]
  },
  {
   "cell_type": "code",
   "execution_count": 160,
   "id": "fb6cac0a-5699-400a-920b-8dd5e73d4a46",
   "metadata": {},
   "outputs": [
    {
     "data": {
      "text/html": [
       "<div>\n",
       "<style scoped>\n",
       "    .dataframe tbody tr th:only-of-type {\n",
       "        vertical-align: middle;\n",
       "    }\n",
       "\n",
       "    .dataframe tbody tr th {\n",
       "        vertical-align: top;\n",
       "    }\n",
       "\n",
       "    .dataframe thead th {\n",
       "        text-align: right;\n",
       "    }\n",
       "</style>\n",
       "<table border=\"1\" class=\"dataframe\">\n",
       "  <thead>\n",
       "    <tr style=\"text-align: right;\">\n",
       "      <th></th>\n",
       "      <th>vegetables</th>\n",
       "      <th>color</th>\n",
       "      <th>unit</th>\n",
       "      <th>min</th>\n",
       "      <th>max</th>\n",
       "      <th>average</th>\n",
       "      <th>season</th>\n",
       "    </tr>\n",
       "  </thead>\n",
       "  <tbody>\n",
       "    <tr>\n",
       "      <th>a</th>\n",
       "      <td>beetroot</td>\n",
       "      <td>purple</td>\n",
       "      <td>1kg</td>\n",
       "      <td>15</td>\n",
       "      <td>45</td>\n",
       "      <td>20</td>\n",
       "      <td>True</td>\n",
       "    </tr>\n",
       "    <tr>\n",
       "      <th>b</th>\n",
       "      <td>carrot</td>\n",
       "      <td>orange</td>\n",
       "      <td>1kg</td>\n",
       "      <td>25</td>\n",
       "      <td>50</td>\n",
       "      <td>35</td>\n",
       "      <td>True</td>\n",
       "    </tr>\n",
       "    <tr>\n",
       "      <th>c</th>\n",
       "      <td>tomato</td>\n",
       "      <td>red</td>\n",
       "      <td>1kg</td>\n",
       "      <td>53</td>\n",
       "      <td>95</td>\n",
       "      <td>75</td>\n",
       "      <td>False</td>\n",
       "    </tr>\n",
       "    <tr>\n",
       "      <th>d</th>\n",
       "      <td>kovakkai</td>\n",
       "      <td>green</td>\n",
       "      <td>1kg</td>\n",
       "      <td>30</td>\n",
       "      <td>50</td>\n",
       "      <td>35</td>\n",
       "      <td>False</td>\n",
       "    </tr>\n",
       "    <tr>\n",
       "      <th>e</th>\n",
       "      <td>coconut</td>\n",
       "      <td>white</td>\n",
       "      <td>1piece</td>\n",
       "      <td>seventeen</td>\n",
       "      <td>43</td>\n",
       "      <td>25</td>\n",
       "      <td>NaN</td>\n",
       "    </tr>\n",
       "  </tbody>\n",
       "</table>\n",
       "</div>"
      ],
      "text/plain": [
       "  vegetables   color    unit        min  max  average season\n",
       "a   beetroot  purple     1kg         15   45       20   True\n",
       "b     carrot  orange     1kg         25   50       35   True\n",
       "c     tomato     red     1kg         53   95       75  False\n",
       "d   kovakkai   green     1kg         30   50       35  False\n",
       "e    coconut   white  1piece  seventeen   43       25    NaN"
      ]
     },
     "execution_count": 160,
     "metadata": {},
     "output_type": "execute_result"
    }
   ],
   "source": [
    "koyambedu_market1"
   ]
  },
  {
   "cell_type": "code",
   "execution_count": 174,
   "id": "abbaf3f0-bcb5-463f-8c43-fbfcf3a701a2",
   "metadata": {},
   "outputs": [],
   "source": [
    "koyambedu_market1.loc['e', 'max'] += 5\n"
   ]
  },
  {
   "cell_type": "code",
   "execution_count": 176,
   "id": "21989f00-dde8-4ef7-97b1-aadd4fc150ed",
   "metadata": {},
   "outputs": [
    {
     "data": {
      "text/html": [
       "<div>\n",
       "<style scoped>\n",
       "    .dataframe tbody tr th:only-of-type {\n",
       "        vertical-align: middle;\n",
       "    }\n",
       "\n",
       "    .dataframe tbody tr th {\n",
       "        vertical-align: top;\n",
       "    }\n",
       "\n",
       "    .dataframe thead th {\n",
       "        text-align: right;\n",
       "    }\n",
       "</style>\n",
       "<table border=\"1\" class=\"dataframe\">\n",
       "  <thead>\n",
       "    <tr style=\"text-align: right;\">\n",
       "      <th></th>\n",
       "      <th>vegetables</th>\n",
       "      <th>color</th>\n",
       "      <th>unit</th>\n",
       "      <th>min</th>\n",
       "      <th>max</th>\n",
       "      <th>average</th>\n",
       "      <th>season</th>\n",
       "      <th>(coconut, max)</th>\n",
       "    </tr>\n",
       "  </thead>\n",
       "  <tbody>\n",
       "    <tr>\n",
       "      <th>a</th>\n",
       "      <td>beetroot</td>\n",
       "      <td>purple</td>\n",
       "      <td>1kg</td>\n",
       "      <td>15</td>\n",
       "      <td>45</td>\n",
       "      <td>20</td>\n",
       "      <td>True</td>\n",
       "      <td>50</td>\n",
       "    </tr>\n",
       "    <tr>\n",
       "      <th>b</th>\n",
       "      <td>carrot</td>\n",
       "      <td>orange</td>\n",
       "      <td>1kg</td>\n",
       "      <td>25</td>\n",
       "      <td>50</td>\n",
       "      <td>35</td>\n",
       "      <td>True</td>\n",
       "      <td>55</td>\n",
       "    </tr>\n",
       "    <tr>\n",
       "      <th>c</th>\n",
       "      <td>tomato</td>\n",
       "      <td>red</td>\n",
       "      <td>1kg</td>\n",
       "      <td>53</td>\n",
       "      <td>95</td>\n",
       "      <td>75</td>\n",
       "      <td>False</td>\n",
       "      <td>100</td>\n",
       "    </tr>\n",
       "    <tr>\n",
       "      <th>d</th>\n",
       "      <td>kovakkai</td>\n",
       "      <td>green</td>\n",
       "      <td>1kg</td>\n",
       "      <td>30</td>\n",
       "      <td>50</td>\n",
       "      <td>35</td>\n",
       "      <td>False</td>\n",
       "      <td>55</td>\n",
       "    </tr>\n",
       "    <tr>\n",
       "      <th>e</th>\n",
       "      <td>coconut</td>\n",
       "      <td>white</td>\n",
       "      <td>1piece</td>\n",
       "      <td>seventeen</td>\n",
       "      <td>48</td>\n",
       "      <td>25</td>\n",
       "      <td>NaN</td>\n",
       "      <td>48</td>\n",
       "    </tr>\n",
       "  </tbody>\n",
       "</table>\n",
       "</div>"
      ],
      "text/plain": [
       "  vegetables   color    unit        min  max  average season  (coconut, max)\n",
       "a   beetroot  purple     1kg         15   45       20   True              50\n",
       "b     carrot  orange     1kg         25   50       35   True              55\n",
       "c     tomato     red     1kg         53   95       75  False             100\n",
       "d   kovakkai   green     1kg         30   50       35  False              55\n",
       "e    coconut   white  1piece  seventeen   48       25    NaN              48"
      ]
     },
     "execution_count": 176,
     "metadata": {},
     "output_type": "execute_result"
    }
   ],
   "source": [
    "koyambedu_market1"
   ]
  },
  {
   "cell_type": "markdown",
   "id": "e713f7ca-dbef-4024-89ca-f3be0e760355",
   "metadata": {},
   "source": [
    "data aggregating and grouping"
   ]
  },
  {
   "cell_type": "code",
   "execution_count": 181,
   "id": "6333d624-3909-4e67-b686-7ec9a67e5f6d",
   "metadata": {},
   "outputs": [
    {
     "data": {
      "text/html": [
       "<div>\n",
       "<style scoped>\n",
       "    .dataframe tbody tr th:only-of-type {\n",
       "        vertical-align: middle;\n",
       "    }\n",
       "\n",
       "    .dataframe tbody tr th {\n",
       "        vertical-align: top;\n",
       "    }\n",
       "\n",
       "    .dataframe thead th {\n",
       "        text-align: right;\n",
       "    }\n",
       "</style>\n",
       "<table border=\"1\" class=\"dataframe\">\n",
       "  <thead>\n",
       "    <tr style=\"text-align: right;\">\n",
       "      <th></th>\n",
       "      <th>vegetables</th>\n",
       "      <th>color</th>\n",
       "      <th>min</th>\n",
       "      <th>max</th>\n",
       "      <th>average</th>\n",
       "      <th>season</th>\n",
       "      <th>(coconut, max)</th>\n",
       "    </tr>\n",
       "    <tr>\n",
       "      <th>unit</th>\n",
       "      <th></th>\n",
       "      <th></th>\n",
       "      <th></th>\n",
       "      <th></th>\n",
       "      <th></th>\n",
       "      <th></th>\n",
       "      <th></th>\n",
       "    </tr>\n",
       "  </thead>\n",
       "  <tbody>\n",
       "    <tr>\n",
       "      <th>1kg</th>\n",
       "      <td>beetrootcarrottomatokovakkai</td>\n",
       "      <td>purpleorangeredgreen</td>\n",
       "      <td>123</td>\n",
       "      <td>240</td>\n",
       "      <td>165</td>\n",
       "      <td>2</td>\n",
       "      <td>260</td>\n",
       "    </tr>\n",
       "    <tr>\n",
       "      <th>1piece</th>\n",
       "      <td>coconut</td>\n",
       "      <td>white</td>\n",
       "      <td>seventeen</td>\n",
       "      <td>48</td>\n",
       "      <td>25</td>\n",
       "      <td>0</td>\n",
       "      <td>48</td>\n",
       "    </tr>\n",
       "  </tbody>\n",
       "</table>\n",
       "</div>"
      ],
      "text/plain": [
       "                          vegetables                 color        min  max  \\\n",
       "unit                                                                         \n",
       "1kg     beetrootcarrottomatokovakkai  purpleorangeredgreen        123  240   \n",
       "1piece                       coconut                 white  seventeen   48   \n",
       "\n",
       "        average season  (coconut, max)  \n",
       "unit                                    \n",
       "1kg         165      2             260  \n",
       "1piece       25      0              48  "
      ]
     },
     "execution_count": 181,
     "metadata": {},
     "output_type": "execute_result"
    }
   ],
   "source": [
    "koyambedu_market1.groupby('unit').sum()"
   ]
  },
  {
   "cell_type": "code",
   "execution_count": 183,
   "id": "cad8a56d-bdc2-450b-830d-86f52229f388",
   "metadata": {},
   "outputs": [
    {
     "data": {
      "text/html": [
       "<div>\n",
       "<style scoped>\n",
       "    .dataframe tbody tr th:only-of-type {\n",
       "        vertical-align: middle;\n",
       "    }\n",
       "\n",
       "    .dataframe tbody tr th {\n",
       "        vertical-align: top;\n",
       "    }\n",
       "\n",
       "    .dataframe thead th {\n",
       "        text-align: right;\n",
       "    }\n",
       "</style>\n",
       "<table border=\"1\" class=\"dataframe\">\n",
       "  <thead>\n",
       "    <tr style=\"text-align: right;\">\n",
       "      <th></th>\n",
       "      <th></th>\n",
       "      <th>vegetables</th>\n",
       "      <th>color</th>\n",
       "      <th>min</th>\n",
       "      <th>average</th>\n",
       "      <th>season</th>\n",
       "      <th>(coconut, max)</th>\n",
       "    </tr>\n",
       "    <tr>\n",
       "      <th>unit</th>\n",
       "      <th>max</th>\n",
       "      <th></th>\n",
       "      <th></th>\n",
       "      <th></th>\n",
       "      <th></th>\n",
       "      <th></th>\n",
       "      <th></th>\n",
       "    </tr>\n",
       "  </thead>\n",
       "  <tbody>\n",
       "    <tr>\n",
       "      <th rowspan=\"3\" valign=\"top\">1kg</th>\n",
       "      <th>45</th>\n",
       "      <td>beetroot</td>\n",
       "      <td>purple</td>\n",
       "      <td>15</td>\n",
       "      <td>20</td>\n",
       "      <td>True</td>\n",
       "      <td>50</td>\n",
       "    </tr>\n",
       "    <tr>\n",
       "      <th>50</th>\n",
       "      <td>carrotkovakkai</td>\n",
       "      <td>orangegreen</td>\n",
       "      <td>55</td>\n",
       "      <td>70</td>\n",
       "      <td>1</td>\n",
       "      <td>110</td>\n",
       "    </tr>\n",
       "    <tr>\n",
       "      <th>95</th>\n",
       "      <td>tomato</td>\n",
       "      <td>red</td>\n",
       "      <td>53</td>\n",
       "      <td>75</td>\n",
       "      <td>False</td>\n",
       "      <td>100</td>\n",
       "    </tr>\n",
       "    <tr>\n",
       "      <th>1piece</th>\n",
       "      <th>48</th>\n",
       "      <td>coconut</td>\n",
       "      <td>white</td>\n",
       "      <td>seventeen</td>\n",
       "      <td>25</td>\n",
       "      <td>0</td>\n",
       "      <td>48</td>\n",
       "    </tr>\n",
       "  </tbody>\n",
       "</table>\n",
       "</div>"
      ],
      "text/plain": [
       "                vegetables        color        min  average season  \\\n",
       "unit   max                                                           \n",
       "1kg    45         beetroot       purple         15       20   True   \n",
       "       50   carrotkovakkai  orangegreen         55       70      1   \n",
       "       95           tomato          red         53       75  False   \n",
       "1piece 48          coconut        white  seventeen       25      0   \n",
       "\n",
       "            (coconut, max)  \n",
       "unit   max                  \n",
       "1kg    45               50  \n",
       "       50              110  \n",
       "       95              100  \n",
       "1piece 48               48  "
      ]
     },
     "execution_count": 183,
     "metadata": {},
     "output_type": "execute_result"
    }
   ],
   "source": [
    "koyambedu_market1.groupby(['unit','max']).sum()"
   ]
  },
  {
   "cell_type": "code",
   "execution_count": 185,
   "id": "f6024dd5-2cc2-43d1-aa50-b979eda27a69",
   "metadata": {},
   "outputs": [],
   "source": [
    "data= {'vegetables':['beetroot','carrot','redchilli','beans','coconut'],\n",
    "       'color':['purple','orange','red','green','white'],\n",
    "       'unit':['1kg','1kg','1kg','1kg','1piece'],\n",
    "       'min':[15,25,53,30,'seventeen'],\n",
    "       'max':[41,45,90,45,38],\n",
    "      }"
   ]
  },
  {
   "cell_type": "code",
   "execution_count": 187,
   "id": "c6586eff-1ffe-4c3e-8d34-9107d1d24952",
   "metadata": {},
   "outputs": [],
   "source": [
    "thiruvanmiyur_market= pd.DataFrame(data)"
   ]
  },
  {
   "cell_type": "markdown",
   "id": "3ff77bbf-60b6-4bfc-ab16-3297c0c26f12",
   "metadata": {},
   "source": [
    "Join DATA FRAMES"
   ]
  },
  {
   "cell_type": "code",
   "execution_count": 194,
   "id": "41e4ce41-2f2a-439d-b1ee-2886321e7607",
   "metadata": {},
   "outputs": [
    {
     "data": {
      "text/html": [
       "<div>\n",
       "<style scoped>\n",
       "    .dataframe tbody tr th:only-of-type {\n",
       "        vertical-align: middle;\n",
       "    }\n",
       "\n",
       "    .dataframe tbody tr th {\n",
       "        vertical-align: top;\n",
       "    }\n",
       "\n",
       "    .dataframe thead th {\n",
       "        text-align: right;\n",
       "    }\n",
       "</style>\n",
       "<table border=\"1\" class=\"dataframe\">\n",
       "  <thead>\n",
       "    <tr style=\"text-align: right;\">\n",
       "      <th></th>\n",
       "      <th>vegetables</th>\n",
       "      <th>color</th>\n",
       "      <th>unit</th>\n",
       "      <th>min</th>\n",
       "      <th>max</th>\n",
       "    </tr>\n",
       "  </thead>\n",
       "  <tbody>\n",
       "    <tr>\n",
       "      <th>0</th>\n",
       "      <td>beetroot</td>\n",
       "      <td>purple</td>\n",
       "      <td>1kg</td>\n",
       "      <td>15</td>\n",
       "      <td>40</td>\n",
       "    </tr>\n",
       "    <tr>\n",
       "      <th>1</th>\n",
       "      <td>carrot</td>\n",
       "      <td>orange</td>\n",
       "      <td>1kg</td>\n",
       "      <td>25</td>\n",
       "      <td>45</td>\n",
       "    </tr>\n",
       "    <tr>\n",
       "      <th>2</th>\n",
       "      <td>tomato</td>\n",
       "      <td>red</td>\n",
       "      <td>1kg</td>\n",
       "      <td>53</td>\n",
       "      <td>90</td>\n",
       "    </tr>\n",
       "    <tr>\n",
       "      <th>3</th>\n",
       "      <td>kovakkai</td>\n",
       "      <td>green</td>\n",
       "      <td>1kg</td>\n",
       "      <td>30</td>\n",
       "      <td>45</td>\n",
       "    </tr>\n",
       "    <tr>\n",
       "      <th>4</th>\n",
       "      <td>coconut</td>\n",
       "      <td>white</td>\n",
       "      <td>1piece</td>\n",
       "      <td>seventeen</td>\n",
       "      <td>38</td>\n",
       "    </tr>\n",
       "  </tbody>\n",
       "</table>\n",
       "</div>"
      ],
      "text/plain": [
       "  vegetables   color    unit        min  max\n",
       "0   beetroot  purple     1kg         15   40\n",
       "1     carrot  orange     1kg         25   45\n",
       "2     tomato     red     1kg         53   90\n",
       "3   kovakkai   green     1kg         30   45\n",
       "4    coconut   white  1piece  seventeen   38"
      ]
     },
     "execution_count": 194,
     "metadata": {},
     "output_type": "execute_result"
    }
   ],
   "source": [
    "koyambedu_market"
   ]
  },
  {
   "cell_type": "code",
   "execution_count": 192,
   "id": "33920980-1fca-486c-aaf4-744b8eae7cc7",
   "metadata": {},
   "outputs": [
    {
     "data": {
      "text/html": [
       "<div>\n",
       "<style scoped>\n",
       "    .dataframe tbody tr th:only-of-type {\n",
       "        vertical-align: middle;\n",
       "    }\n",
       "\n",
       "    .dataframe tbody tr th {\n",
       "        vertical-align: top;\n",
       "    }\n",
       "\n",
       "    .dataframe thead th {\n",
       "        text-align: right;\n",
       "    }\n",
       "</style>\n",
       "<table border=\"1\" class=\"dataframe\">\n",
       "  <thead>\n",
       "    <tr style=\"text-align: right;\">\n",
       "      <th></th>\n",
       "      <th>vegetables</th>\n",
       "      <th>color</th>\n",
       "      <th>unit</th>\n",
       "      <th>min</th>\n",
       "      <th>max</th>\n",
       "    </tr>\n",
       "  </thead>\n",
       "  <tbody>\n",
       "    <tr>\n",
       "      <th>0</th>\n",
       "      <td>beetroot</td>\n",
       "      <td>purple</td>\n",
       "      <td>1kg</td>\n",
       "      <td>15</td>\n",
       "      <td>41</td>\n",
       "    </tr>\n",
       "    <tr>\n",
       "      <th>1</th>\n",
       "      <td>carrot</td>\n",
       "      <td>orange</td>\n",
       "      <td>1kg</td>\n",
       "      <td>25</td>\n",
       "      <td>45</td>\n",
       "    </tr>\n",
       "    <tr>\n",
       "      <th>2</th>\n",
       "      <td>redchilli</td>\n",
       "      <td>red</td>\n",
       "      <td>1kg</td>\n",
       "      <td>53</td>\n",
       "      <td>90</td>\n",
       "    </tr>\n",
       "    <tr>\n",
       "      <th>3</th>\n",
       "      <td>beans</td>\n",
       "      <td>green</td>\n",
       "      <td>1kg</td>\n",
       "      <td>30</td>\n",
       "      <td>45</td>\n",
       "    </tr>\n",
       "    <tr>\n",
       "      <th>4</th>\n",
       "      <td>coconut</td>\n",
       "      <td>white</td>\n",
       "      <td>1piece</td>\n",
       "      <td>seventeen</td>\n",
       "      <td>38</td>\n",
       "    </tr>\n",
       "  </tbody>\n",
       "</table>\n",
       "</div>"
      ],
      "text/plain": [
       "  vegetables   color    unit        min  max\n",
       "0   beetroot  purple     1kg         15   41\n",
       "1     carrot  orange     1kg         25   45\n",
       "2  redchilli     red     1kg         53   90\n",
       "3      beans   green     1kg         30   45\n",
       "4    coconut   white  1piece  seventeen   38"
      ]
     },
     "execution_count": 192,
     "metadata": {},
     "output_type": "execute_result"
    }
   ],
   "source": [
    "thiruvanmiyur_market"
   ]
  },
  {
   "cell_type": "code",
   "execution_count": 196,
   "id": "d25f2782-8eac-4026-9187-71c711be99a1",
   "metadata": {},
   "outputs": [
    {
     "data": {
      "text/html": [
       "<div>\n",
       "<style scoped>\n",
       "    .dataframe tbody tr th:only-of-type {\n",
       "        vertical-align: middle;\n",
       "    }\n",
       "\n",
       "    .dataframe tbody tr th {\n",
       "        vertical-align: top;\n",
       "    }\n",
       "\n",
       "    .dataframe thead th {\n",
       "        text-align: right;\n",
       "    }\n",
       "</style>\n",
       "<table border=\"1\" class=\"dataframe\">\n",
       "  <thead>\n",
       "    <tr style=\"text-align: right;\">\n",
       "      <th></th>\n",
       "      <th>vegetables</th>\n",
       "      <th>color</th>\n",
       "      <th>unit</th>\n",
       "      <th>min</th>\n",
       "      <th>max</th>\n",
       "    </tr>\n",
       "  </thead>\n",
       "  <tbody>\n",
       "    <tr>\n",
       "      <th>0</th>\n",
       "      <td>beetroot</td>\n",
       "      <td>purple</td>\n",
       "      <td>1kg</td>\n",
       "      <td>15</td>\n",
       "      <td>40</td>\n",
       "    </tr>\n",
       "    <tr>\n",
       "      <th>1</th>\n",
       "      <td>carrot</td>\n",
       "      <td>orange</td>\n",
       "      <td>1kg</td>\n",
       "      <td>25</td>\n",
       "      <td>45</td>\n",
       "    </tr>\n",
       "    <tr>\n",
       "      <th>2</th>\n",
       "      <td>tomato</td>\n",
       "      <td>red</td>\n",
       "      <td>1kg</td>\n",
       "      <td>53</td>\n",
       "      <td>90</td>\n",
       "    </tr>\n",
       "    <tr>\n",
       "      <th>3</th>\n",
       "      <td>kovakkai</td>\n",
       "      <td>green</td>\n",
       "      <td>1kg</td>\n",
       "      <td>30</td>\n",
       "      <td>45</td>\n",
       "    </tr>\n",
       "    <tr>\n",
       "      <th>4</th>\n",
       "      <td>coconut</td>\n",
       "      <td>white</td>\n",
       "      <td>1piece</td>\n",
       "      <td>seventeen</td>\n",
       "      <td>38</td>\n",
       "    </tr>\n",
       "    <tr>\n",
       "      <th>0</th>\n",
       "      <td>beetroot</td>\n",
       "      <td>purple</td>\n",
       "      <td>1kg</td>\n",
       "      <td>15</td>\n",
       "      <td>41</td>\n",
       "    </tr>\n",
       "    <tr>\n",
       "      <th>1</th>\n",
       "      <td>carrot</td>\n",
       "      <td>orange</td>\n",
       "      <td>1kg</td>\n",
       "      <td>25</td>\n",
       "      <td>45</td>\n",
       "    </tr>\n",
       "    <tr>\n",
       "      <th>2</th>\n",
       "      <td>redchilli</td>\n",
       "      <td>red</td>\n",
       "      <td>1kg</td>\n",
       "      <td>53</td>\n",
       "      <td>90</td>\n",
       "    </tr>\n",
       "    <tr>\n",
       "      <th>3</th>\n",
       "      <td>beans</td>\n",
       "      <td>green</td>\n",
       "      <td>1kg</td>\n",
       "      <td>30</td>\n",
       "      <td>45</td>\n",
       "    </tr>\n",
       "    <tr>\n",
       "      <th>4</th>\n",
       "      <td>coconut</td>\n",
       "      <td>white</td>\n",
       "      <td>1piece</td>\n",
       "      <td>seventeen</td>\n",
       "      <td>38</td>\n",
       "    </tr>\n",
       "  </tbody>\n",
       "</table>\n",
       "</div>"
      ],
      "text/plain": [
       "  vegetables   color    unit        min  max\n",
       "0   beetroot  purple     1kg         15   40\n",
       "1     carrot  orange     1kg         25   45\n",
       "2     tomato     red     1kg         53   90\n",
       "3   kovakkai   green     1kg         30   45\n",
       "4    coconut   white  1piece  seventeen   38\n",
       "0   beetroot  purple     1kg         15   41\n",
       "1     carrot  orange     1kg         25   45\n",
       "2  redchilli     red     1kg         53   90\n",
       "3      beans   green     1kg         30   45\n",
       "4    coconut   white  1piece  seventeen   38"
      ]
     },
     "execution_count": 196,
     "metadata": {},
     "output_type": "execute_result"
    }
   ],
   "source": [
    "pd.concat([koyambedu_market,thiruvanmiyur_market])"
   ]
  },
  {
   "cell_type": "code",
   "execution_count": 198,
   "id": "df9fbe95-30a0-4017-93d0-c66aadcfa1bb",
   "metadata": {},
   "outputs": [
    {
     "data": {
      "text/html": [
       "<div>\n",
       "<style scoped>\n",
       "    .dataframe tbody tr th:only-of-type {\n",
       "        vertical-align: middle;\n",
       "    }\n",
       "\n",
       "    .dataframe tbody tr th {\n",
       "        vertical-align: top;\n",
       "    }\n",
       "\n",
       "    .dataframe thead th {\n",
       "        text-align: right;\n",
       "    }\n",
       "</style>\n",
       "<table border=\"1\" class=\"dataframe\">\n",
       "  <thead>\n",
       "    <tr style=\"text-align: right;\">\n",
       "      <th></th>\n",
       "      <th>vegetables</th>\n",
       "      <th>color</th>\n",
       "      <th>unit</th>\n",
       "      <th>min</th>\n",
       "      <th>max</th>\n",
       "      <th>vegetables</th>\n",
       "      <th>color</th>\n",
       "      <th>unit</th>\n",
       "      <th>min</th>\n",
       "      <th>max</th>\n",
       "    </tr>\n",
       "  </thead>\n",
       "  <tbody>\n",
       "    <tr>\n",
       "      <th>0</th>\n",
       "      <td>beetroot</td>\n",
       "      <td>purple</td>\n",
       "      <td>1kg</td>\n",
       "      <td>15</td>\n",
       "      <td>40</td>\n",
       "      <td>beetroot</td>\n",
       "      <td>purple</td>\n",
       "      <td>1kg</td>\n",
       "      <td>15</td>\n",
       "      <td>41</td>\n",
       "    </tr>\n",
       "    <tr>\n",
       "      <th>1</th>\n",
       "      <td>carrot</td>\n",
       "      <td>orange</td>\n",
       "      <td>1kg</td>\n",
       "      <td>25</td>\n",
       "      <td>45</td>\n",
       "      <td>carrot</td>\n",
       "      <td>orange</td>\n",
       "      <td>1kg</td>\n",
       "      <td>25</td>\n",
       "      <td>45</td>\n",
       "    </tr>\n",
       "    <tr>\n",
       "      <th>2</th>\n",
       "      <td>tomato</td>\n",
       "      <td>red</td>\n",
       "      <td>1kg</td>\n",
       "      <td>53</td>\n",
       "      <td>90</td>\n",
       "      <td>redchilli</td>\n",
       "      <td>red</td>\n",
       "      <td>1kg</td>\n",
       "      <td>53</td>\n",
       "      <td>90</td>\n",
       "    </tr>\n",
       "    <tr>\n",
       "      <th>3</th>\n",
       "      <td>kovakkai</td>\n",
       "      <td>green</td>\n",
       "      <td>1kg</td>\n",
       "      <td>30</td>\n",
       "      <td>45</td>\n",
       "      <td>beans</td>\n",
       "      <td>green</td>\n",
       "      <td>1kg</td>\n",
       "      <td>30</td>\n",
       "      <td>45</td>\n",
       "    </tr>\n",
       "    <tr>\n",
       "      <th>4</th>\n",
       "      <td>coconut</td>\n",
       "      <td>white</td>\n",
       "      <td>1piece</td>\n",
       "      <td>seventeen</td>\n",
       "      <td>38</td>\n",
       "      <td>coconut</td>\n",
       "      <td>white</td>\n",
       "      <td>1piece</td>\n",
       "      <td>seventeen</td>\n",
       "      <td>38</td>\n",
       "    </tr>\n",
       "  </tbody>\n",
       "</table>\n",
       "</div>"
      ],
      "text/plain": [
       "  vegetables   color    unit        min  max vegetables   color    unit  \\\n",
       "0   beetroot  purple     1kg         15   40   beetroot  purple     1kg   \n",
       "1     carrot  orange     1kg         25   45     carrot  orange     1kg   \n",
       "2     tomato     red     1kg         53   90  redchilli     red     1kg   \n",
       "3   kovakkai   green     1kg         30   45      beans   green     1kg   \n",
       "4    coconut   white  1piece  seventeen   38    coconut   white  1piece   \n",
       "\n",
       "         min  max  \n",
       "0         15   41  \n",
       "1         25   45  \n",
       "2         53   90  \n",
       "3         30   45  \n",
       "4  seventeen   38  "
      ]
     },
     "execution_count": 198,
     "metadata": {},
     "output_type": "execute_result"
    }
   ],
   "source": [
    "pd.concat([koyambedu_market,thiruvanmiyur_market],axis=1)"
   ]
  },
  {
   "cell_type": "code",
   "execution_count": 204,
   "id": "00177d20-ef34-47cd-8f9a-94144e830290",
   "metadata": {},
   "outputs": [
    {
     "data": {
      "text/html": [
       "<div>\n",
       "<style scoped>\n",
       "    .dataframe tbody tr th:only-of-type {\n",
       "        vertical-align: middle;\n",
       "    }\n",
       "\n",
       "    .dataframe tbody tr th {\n",
       "        vertical-align: top;\n",
       "    }\n",
       "\n",
       "    .dataframe thead th {\n",
       "        text-align: right;\n",
       "    }\n",
       "</style>\n",
       "<table border=\"1\" class=\"dataframe\">\n",
       "  <thead>\n",
       "    <tr style=\"text-align: right;\">\n",
       "      <th></th>\n",
       "      <th>vegetables</th>\n",
       "      <th>color_x</th>\n",
       "      <th>unit_x</th>\n",
       "      <th>min_x</th>\n",
       "      <th>max_x</th>\n",
       "      <th>color_y</th>\n",
       "      <th>unit_y</th>\n",
       "      <th>min_y</th>\n",
       "      <th>max_y</th>\n",
       "    </tr>\n",
       "  </thead>\n",
       "  <tbody>\n",
       "    <tr>\n",
       "      <th>0</th>\n",
       "      <td>beetroot</td>\n",
       "      <td>purple</td>\n",
       "      <td>1kg</td>\n",
       "      <td>15</td>\n",
       "      <td>40</td>\n",
       "      <td>purple</td>\n",
       "      <td>1kg</td>\n",
       "      <td>15</td>\n",
       "      <td>41</td>\n",
       "    </tr>\n",
       "    <tr>\n",
       "      <th>1</th>\n",
       "      <td>carrot</td>\n",
       "      <td>orange</td>\n",
       "      <td>1kg</td>\n",
       "      <td>25</td>\n",
       "      <td>45</td>\n",
       "      <td>orange</td>\n",
       "      <td>1kg</td>\n",
       "      <td>25</td>\n",
       "      <td>45</td>\n",
       "    </tr>\n",
       "    <tr>\n",
       "      <th>2</th>\n",
       "      <td>coconut</td>\n",
       "      <td>white</td>\n",
       "      <td>1piece</td>\n",
       "      <td>seventeen</td>\n",
       "      <td>38</td>\n",
       "      <td>white</td>\n",
       "      <td>1piece</td>\n",
       "      <td>seventeen</td>\n",
       "      <td>38</td>\n",
       "    </tr>\n",
       "  </tbody>\n",
       "</table>\n",
       "</div>"
      ],
      "text/plain": [
       "  vegetables color_x  unit_x      min_x  max_x color_y  unit_y      min_y  \\\n",
       "0   beetroot  purple     1kg         15     40  purple     1kg         15   \n",
       "1     carrot  orange     1kg         25     45  orange     1kg         25   \n",
       "2    coconut   white  1piece  seventeen     38   white  1piece  seventeen   \n",
       "\n",
       "   max_y  \n",
       "0     41  \n",
       "1     45  \n",
       "2     38  "
      ]
     },
     "execution_count": 204,
     "metadata": {},
     "output_type": "execute_result"
    }
   ],
   "source": [
    "pd.merge(koyambedu_market,thiruvanmiyur_market,on='vegetables',how='inner')"
   ]
  },
  {
   "cell_type": "code",
   "execution_count": 206,
   "id": "df09c7ef-67ce-4aa2-b947-40bc1f540412",
   "metadata": {},
   "outputs": [
    {
     "data": {
      "text/html": [
       "<div>\n",
       "<style scoped>\n",
       "    .dataframe tbody tr th:only-of-type {\n",
       "        vertical-align: middle;\n",
       "    }\n",
       "\n",
       "    .dataframe tbody tr th {\n",
       "        vertical-align: top;\n",
       "    }\n",
       "\n",
       "    .dataframe thead th {\n",
       "        text-align: right;\n",
       "    }\n",
       "</style>\n",
       "<table border=\"1\" class=\"dataframe\">\n",
       "  <thead>\n",
       "    <tr style=\"text-align: right;\">\n",
       "      <th></th>\n",
       "      <th>vegetables</th>\n",
       "      <th>color_x</th>\n",
       "      <th>unit_x</th>\n",
       "      <th>min_x</th>\n",
       "      <th>max_x</th>\n",
       "      <th>color_y</th>\n",
       "      <th>unit_y</th>\n",
       "      <th>min_y</th>\n",
       "      <th>max_y</th>\n",
       "    </tr>\n",
       "  </thead>\n",
       "  <tbody>\n",
       "    <tr>\n",
       "      <th>0</th>\n",
       "      <td>beans</td>\n",
       "      <td>NaN</td>\n",
       "      <td>NaN</td>\n",
       "      <td>NaN</td>\n",
       "      <td>NaN</td>\n",
       "      <td>green</td>\n",
       "      <td>1kg</td>\n",
       "      <td>30</td>\n",
       "      <td>45.0</td>\n",
       "    </tr>\n",
       "    <tr>\n",
       "      <th>1</th>\n",
       "      <td>beetroot</td>\n",
       "      <td>purple</td>\n",
       "      <td>1kg</td>\n",
       "      <td>15</td>\n",
       "      <td>40.0</td>\n",
       "      <td>purple</td>\n",
       "      <td>1kg</td>\n",
       "      <td>15</td>\n",
       "      <td>41.0</td>\n",
       "    </tr>\n",
       "    <tr>\n",
       "      <th>2</th>\n",
       "      <td>carrot</td>\n",
       "      <td>orange</td>\n",
       "      <td>1kg</td>\n",
       "      <td>25</td>\n",
       "      <td>45.0</td>\n",
       "      <td>orange</td>\n",
       "      <td>1kg</td>\n",
       "      <td>25</td>\n",
       "      <td>45.0</td>\n",
       "    </tr>\n",
       "    <tr>\n",
       "      <th>3</th>\n",
       "      <td>coconut</td>\n",
       "      <td>white</td>\n",
       "      <td>1piece</td>\n",
       "      <td>seventeen</td>\n",
       "      <td>38.0</td>\n",
       "      <td>white</td>\n",
       "      <td>1piece</td>\n",
       "      <td>seventeen</td>\n",
       "      <td>38.0</td>\n",
       "    </tr>\n",
       "    <tr>\n",
       "      <th>4</th>\n",
       "      <td>kovakkai</td>\n",
       "      <td>green</td>\n",
       "      <td>1kg</td>\n",
       "      <td>30</td>\n",
       "      <td>45.0</td>\n",
       "      <td>NaN</td>\n",
       "      <td>NaN</td>\n",
       "      <td>NaN</td>\n",
       "      <td>NaN</td>\n",
       "    </tr>\n",
       "    <tr>\n",
       "      <th>5</th>\n",
       "      <td>redchilli</td>\n",
       "      <td>NaN</td>\n",
       "      <td>NaN</td>\n",
       "      <td>NaN</td>\n",
       "      <td>NaN</td>\n",
       "      <td>red</td>\n",
       "      <td>1kg</td>\n",
       "      <td>53</td>\n",
       "      <td>90.0</td>\n",
       "    </tr>\n",
       "    <tr>\n",
       "      <th>6</th>\n",
       "      <td>tomato</td>\n",
       "      <td>red</td>\n",
       "      <td>1kg</td>\n",
       "      <td>53</td>\n",
       "      <td>90.0</td>\n",
       "      <td>NaN</td>\n",
       "      <td>NaN</td>\n",
       "      <td>NaN</td>\n",
       "      <td>NaN</td>\n",
       "    </tr>\n",
       "  </tbody>\n",
       "</table>\n",
       "</div>"
      ],
      "text/plain": [
       "  vegetables color_x  unit_x      min_x  max_x color_y  unit_y      min_y  \\\n",
       "0      beans     NaN     NaN        NaN    NaN   green     1kg         30   \n",
       "1   beetroot  purple     1kg         15   40.0  purple     1kg         15   \n",
       "2     carrot  orange     1kg         25   45.0  orange     1kg         25   \n",
       "3    coconut   white  1piece  seventeen   38.0   white  1piece  seventeen   \n",
       "4   kovakkai   green     1kg         30   45.0     NaN     NaN        NaN   \n",
       "5  redchilli     NaN     NaN        NaN    NaN     red     1kg         53   \n",
       "6     tomato     red     1kg         53   90.0     NaN     NaN        NaN   \n",
       "\n",
       "   max_y  \n",
       "0   45.0  \n",
       "1   41.0  \n",
       "2   45.0  \n",
       "3   38.0  \n",
       "4    NaN  \n",
       "5   90.0  \n",
       "6    NaN  "
      ]
     },
     "execution_count": 206,
     "metadata": {},
     "output_type": "execute_result"
    }
   ],
   "source": [
    "pd.merge(koyambedu_market,thiruvanmiyur_market,on='vegetables',how='outer')"
   ]
  },
  {
   "cell_type": "code",
   "execution_count": 208,
   "id": "19e991a4-11ce-4b44-b772-8826603a1e6e",
   "metadata": {},
   "outputs": [
    {
     "ename": "SyntaxError",
     "evalue": "(unicode error) 'unicodeescape' codec can't decode bytes in position 2-3: truncated \\UXXXXXXXX escape (766317619.py, line 1)",
     "output_type": "error",
     "traceback": [
      "\u001b[1;36m  Cell \u001b[1;32mIn[208], line 1\u001b[1;36m\u001b[0m\n\u001b[1;33m    pd.read_csv(\"C:\\Users\\bhark\\Downloads\\bank.csv\")\u001b[0m\n\u001b[1;37m                ^\u001b[0m\n\u001b[1;31mSyntaxError\u001b[0m\u001b[1;31m:\u001b[0m (unicode error) 'unicodeescape' codec can't decode bytes in position 2-3: truncated \\UXXXXXXXX escape\n"
     ]
    }
   ],
   "source": [
    "pd.read_csv(\"C:\\Users\\bhark\\Downloads\\bank.csv\")"
   ]
  },
  {
   "cell_type": "code",
   "execution_count": 210,
   "id": "9a91fc23-190b-4015-8f0e-1b1b5f28c956",
   "metadata": {},
   "outputs": [
    {
     "data": {
      "text/html": [
       "<div>\n",
       "<style scoped>\n",
       "    .dataframe tbody tr th:only-of-type {\n",
       "        vertical-align: middle;\n",
       "    }\n",
       "\n",
       "    .dataframe tbody tr th {\n",
       "        vertical-align: top;\n",
       "    }\n",
       "\n",
       "    .dataframe thead th {\n",
       "        text-align: right;\n",
       "    }\n",
       "</style>\n",
       "<table border=\"1\" class=\"dataframe\">\n",
       "  <thead>\n",
       "    <tr style=\"text-align: right;\">\n",
       "      <th></th>\n",
       "      <th>variance</th>\n",
       "      <th>skew</th>\n",
       "      <th>curtosis</th>\n",
       "      <th>entropy</th>\n",
       "      <th>class</th>\n",
       "    </tr>\n",
       "  </thead>\n",
       "  <tbody>\n",
       "    <tr>\n",
       "      <th>0</th>\n",
       "      <td>3.62160</td>\n",
       "      <td>8.66610</td>\n",
       "      <td>-2.8073</td>\n",
       "      <td>-0.44699</td>\n",
       "      <td>0</td>\n",
       "    </tr>\n",
       "    <tr>\n",
       "      <th>1</th>\n",
       "      <td>4.54590</td>\n",
       "      <td>8.16740</td>\n",
       "      <td>-2.4586</td>\n",
       "      <td>-1.46210</td>\n",
       "      <td>0</td>\n",
       "    </tr>\n",
       "    <tr>\n",
       "      <th>2</th>\n",
       "      <td>3.86600</td>\n",
       "      <td>-2.63830</td>\n",
       "      <td>1.9242</td>\n",
       "      <td>0.10645</td>\n",
       "      <td>0</td>\n",
       "    </tr>\n",
       "    <tr>\n",
       "      <th>3</th>\n",
       "      <td>3.45660</td>\n",
       "      <td>9.52280</td>\n",
       "      <td>-4.0112</td>\n",
       "      <td>-3.59440</td>\n",
       "      <td>0</td>\n",
       "    </tr>\n",
       "    <tr>\n",
       "      <th>4</th>\n",
       "      <td>0.32924</td>\n",
       "      <td>-4.45520</td>\n",
       "      <td>4.5718</td>\n",
       "      <td>-0.98880</td>\n",
       "      <td>0</td>\n",
       "    </tr>\n",
       "    <tr>\n",
       "      <th>...</th>\n",
       "      <td>...</td>\n",
       "      <td>...</td>\n",
       "      <td>...</td>\n",
       "      <td>...</td>\n",
       "      <td>...</td>\n",
       "    </tr>\n",
       "    <tr>\n",
       "      <th>1367</th>\n",
       "      <td>0.40614</td>\n",
       "      <td>1.34920</td>\n",
       "      <td>-1.4501</td>\n",
       "      <td>-0.55949</td>\n",
       "      <td>1</td>\n",
       "    </tr>\n",
       "    <tr>\n",
       "      <th>1368</th>\n",
       "      <td>-1.38870</td>\n",
       "      <td>-4.87730</td>\n",
       "      <td>6.4774</td>\n",
       "      <td>0.34179</td>\n",
       "      <td>1</td>\n",
       "    </tr>\n",
       "    <tr>\n",
       "      <th>1369</th>\n",
       "      <td>-3.75030</td>\n",
       "      <td>-13.45860</td>\n",
       "      <td>17.5932</td>\n",
       "      <td>-2.77710</td>\n",
       "      <td>1</td>\n",
       "    </tr>\n",
       "    <tr>\n",
       "      <th>1370</th>\n",
       "      <td>-3.56370</td>\n",
       "      <td>-8.38270</td>\n",
       "      <td>12.3930</td>\n",
       "      <td>-1.28230</td>\n",
       "      <td>1</td>\n",
       "    </tr>\n",
       "    <tr>\n",
       "      <th>1371</th>\n",
       "      <td>-2.54190</td>\n",
       "      <td>-0.65804</td>\n",
       "      <td>2.6842</td>\n",
       "      <td>1.19520</td>\n",
       "      <td>1</td>\n",
       "    </tr>\n",
       "  </tbody>\n",
       "</table>\n",
       "<p>1372 rows × 5 columns</p>\n",
       "</div>"
      ],
      "text/plain": [
       "      variance      skew  curtosis  entropy  class\n",
       "0      3.62160   8.66610   -2.8073 -0.44699      0\n",
       "1      4.54590   8.16740   -2.4586 -1.46210      0\n",
       "2      3.86600  -2.63830    1.9242  0.10645      0\n",
       "3      3.45660   9.52280   -4.0112 -3.59440      0\n",
       "4      0.32924  -4.45520    4.5718 -0.98880      0\n",
       "...        ...       ...       ...      ...    ...\n",
       "1367   0.40614   1.34920   -1.4501 -0.55949      1\n",
       "1368  -1.38870  -4.87730    6.4774  0.34179      1\n",
       "1369  -3.75030 -13.45860   17.5932 -2.77710      1\n",
       "1370  -3.56370  -8.38270   12.3930 -1.28230      1\n",
       "1371  -2.54190  -0.65804    2.6842  1.19520      1\n",
       "\n",
       "[1372 rows x 5 columns]"
      ]
     },
     "execution_count": 210,
     "metadata": {},
     "output_type": "execute_result"
    }
   ],
   "source": [
    "pd.read_csv(r\"C:\\Users\\bhark\\Downloads\\bank.csv\")\n"
   ]
  },
  {
   "cell_type": "code",
   "execution_count": null,
   "id": "4f8c3474-4f81-443b-8929-e850b108267f",
   "metadata": {},
   "outputs": [],
   "source": []
  }
 ],
 "metadata": {
  "kernelspec": {
   "display_name": "Python 3 (ipykernel)",
   "language": "python",
   "name": "python3"
  },
  "language_info": {
   "codemirror_mode": {
    "name": "ipython",
    "version": 3
   },
   "file_extension": ".py",
   "mimetype": "text/x-python",
   "name": "python",
   "nbconvert_exporter": "python",
   "pygments_lexer": "ipython3",
   "version": "3.12.7"
  }
 },
 "nbformat": 4,
 "nbformat_minor": 5
}
